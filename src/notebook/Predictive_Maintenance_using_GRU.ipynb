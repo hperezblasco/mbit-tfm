{
 "cells": [
  {
   "cell_type": "code",
   "execution_count": null,
   "metadata": {
    "colab": {
     "base_uri": "https://localhost:8080/",
     "height": 470
    },
    "colab_type": "code",
    "id": "70-XsHkDGUKu",
    "outputId": "1c0a9ba0-98db-4547-825e-ad3e68210646"
   },
   "outputs": [],
   "source": [
    "from tensorflow.python.client import device_lib\n",
    "device_lib.list_local_devices()"
   ]
  },
  {
   "cell_type": "markdown",
   "metadata": {
    "colab_type": "text",
    "id": "4BsYPkY7gYGx"
   },
   "source": [
    "# Binary classification\n",
    "Predict if an asset will fail within certain time frame (e.g. cycles)"
   ]
  },
  {
   "cell_type": "code",
   "execution_count": null,
   "metadata": {
    "colab": {
     "base_uri": "https://localhost:8080/",
     "height": 34
    },
    "colab_type": "code",
    "id": "QfpzPSgG-If3",
    "outputId": "8bfae4e9-f071-4eca-eed2-07518ecc3163"
   },
   "outputs": [],
   "source": [
    "import keras\n",
    "import pandas as pd\n",
    "import numpy as np\n",
    "import matplotlib.pyplot as plt\n",
    "import os\n",
    "\n",
    "# Setting seed for reproducibility\n",
    "np.random.seed(1234)  \n",
    "PYTHONHASHSEED = 0\n",
    "\n",
    "from sklearn import preprocessing\n",
    "from sklearn.metrics import confusion_matrix, recall_score, precision_score\n",
    "from sklearn.decomposition import PCA\n",
    "from keras.models import Sequential,load_model, Input, Model\n",
    "from keras.layers import Dense, Dropout, LSTM, CuDNNLSTM, GRU\n",
    "\n",
    "# define path to save model\n",
    "model_path = 'binary_model_gru.h5'"
   ]
  },
  {
   "cell_type": "markdown",
   "metadata": {
    "colab_type": "text",
    "id": "EilFg--x-ety"
   },
   "source": [
    "## Data Ingestion"
   ]
  },
  {
   "cell_type": "code",
   "execution_count": null,
   "metadata": {
    "colab": {},
    "colab_type": "code",
    "id": "JjbfnUZGgc3C"
   },
   "outputs": [],
   "source": [
    "# read training data - It is the aircraft engine run-to-failure data.\n",
    "train_df = pd.read_csv('../../dataset/PM_train.txt', sep=\" \", header=None)\n",
    "train_df.drop(train_df.columns[[26, 27]], axis=1, inplace=True)\n",
    "train_df.columns = ['id', 'cycle', 'setting1', 'setting2', 'setting3', 's1', 's2', 's3',\n",
    "                     's4', 's5', 's6', 's7', 's8', 's9', 's10', 's11', 's12', 's13', 's14',\n",
    "                     's15', 's16', 's17', 's18', 's19', 's20', 's21']\n",
    "\n",
    "train_df = train_df.sort_values(['id','cycle'])\n",
    "\n",
    "# read test data - It is the aircraft engine operating data without failure events recorded.\n",
    "test_df = pd.read_csv('../../dataset/PM_test.txt', sep=\" \", header=None)\n",
    "test_df.drop(test_df.columns[[26, 27]], axis=1, inplace=True)\n",
    "test_df.columns = ['id', 'cycle', 'setting1', 'setting2', 'setting3', 's1', 's2', 's3',\n",
    "                     's4', 's5', 's6', 's7', 's8', 's9', 's10', 's11', 's12', 's13', 's14',\n",
    "                     's15', 's16', 's17', 's18', 's19', 's20', 's21']\n",
    "\n",
    "# read ground truth data - It contains the information of true remaining cycles for each engine in the testing data.\n",
    "truth_df = pd.read_csv('../../dataset/PM_truth.txt', sep=\" \", header=None)\n",
    "truth_df.drop(truth_df.columns[[1]], axis=1, inplace=True)\n"
   ]
  },
  {
   "cell_type": "markdown",
   "metadata": {},
   "source": [
    "## Data Analysis"
   ]
  },
  {
   "cell_type": "code",
   "execution_count": null,
   "metadata": {},
   "outputs": [],
   "source": [
    "## import matplotlib\n",
    "\n",
    "cols_normalize = train_df.columns.difference(['id','cycle','RUL','label1','label2'])\n",
    "i = 23\n",
    "his = train_df[cols_normalize[i]].hist()\n",
    "fig = his.get_figure()\n",
    "fig.savefig('{}.png'.format(cols_normalize[i]))"
   ]
  },
  {
   "cell_type": "code",
   "execution_count": null,
   "metadata": {},
   "outputs": [],
   "source": [
    "from scipy.stats import zscore\n",
    "train_df[cols_normalize].apply(zscore)"
   ]
  },
  {
   "cell_type": "markdown",
   "metadata": {
    "colab_type": "text",
    "id": "QEpD7amS-lpu"
   },
   "source": [
    "## Data Preprocessing"
   ]
  },
  {
   "cell_type": "code",
   "execution_count": null,
   "metadata": {
    "colab": {},
    "colab_type": "code",
    "id": "ulY14O06knOI"
   },
   "outputs": [],
   "source": [
    "#######\n",
    "# TRAIN\n",
    "#######\n",
    "# Data Labeling - generate column RUL(Remaining Usefull Life or Time to Failure)\n",
    "rul = pd.DataFrame(train_df.groupby('id')['cycle'].max()).reset_index()\n",
    "rul.columns = ['id', 'max']\n",
    "train_df = train_df.merge(rul, on=['id'], how='left')\n",
    "train_df['RUL'] = train_df['max'] - train_df['cycle']\n",
    "train_df.drop('max', axis=1, inplace=True)\n",
    "\n",
    "# generate label columns for training data\n",
    "# we will only make use of \"label1\" for binary classification, \n",
    "# while trying to answer the question: is a specific engine going to fail within w1 cycles?\n",
    "w1 = 30\n",
    "train_df['label1'] = np.where(train_df['RUL'] <= w1, 1, 0 )\n",
    "\n",
    "# MinMax normalization (from 0 to 1)\n",
    "train_df['cycle_norm'] = train_df['cycle']\n",
    "cols_normalize = train_df.columns.difference(['id','cycle','RUL','label1','label2'])\n",
    "\n",
    "min_max_scaler = preprocessing.MinMaxScaler()\n",
    "norm_train_df = pd.DataFrame(min_max_scaler.fit_transform(train_df[cols_normalize]), \n",
    "                             columns=cols_normalize, \n",
    "                             index=train_df.index)\n",
    "\n",
    "\n",
    "join_df = train_df[train_df.columns.difference(cols_normalize)].join(norm_train_df)\n",
    "train_df = join_df.reindex(columns = train_df.columns)\n",
    "\n",
    "######\n",
    "# TEST\n",
    "######\n",
    "# MinMax normalization (from 0 to 1)\n",
    "test_df['cycle_norm'] = test_df['cycle']\n",
    "norm_test_df = pd.DataFrame(min_max_scaler.transform(test_df[cols_normalize]), \n",
    "                            columns=cols_normalize, \n",
    "                            index=test_df.index)\n",
    "test_join_df = test_df[test_df.columns.difference(cols_normalize)].join(norm_test_df)\n",
    "test_df = test_join_df.reindex(columns = test_df.columns)\n",
    "test_df = test_df.reset_index(drop=True)\n",
    "\n",
    "\n",
    "# We use the ground truth dataset to generate labels for the test data.\n",
    "# generate column max for test data\n",
    "rul = pd.DataFrame(test_df.groupby('id')['cycle'].max()).reset_index()\n",
    "rul.columns = ['id', 'max']\n",
    "truth_df.columns = ['more']\n",
    "truth_df['id'] = truth_df.index + 1\n",
    "truth_df['max'] = rul['max'] + truth_df['more']\n",
    "truth_df.drop('more', axis=1, inplace=True)\n",
    "\n",
    "# generate RUL for test data\n",
    "test_df = test_df.merge(truth_df, on=['id'], how='left')\n",
    "test_df['RUL'] = test_df['max'] - test_df['cycle']\n",
    "test_df.drop('max', axis=1, inplace=True)\n",
    "\n",
    "# generate label columns w0 and w1 for test data\n",
    "test_df['label1'] = np.where(test_df['RUL'] <= w1, 1, 0 )"
   ]
  },
  {
   "cell_type": "code",
   "execution_count": null,
   "metadata": {},
   "outputs": [],
   "source": [
    "# pick a large window size of 50 cycles\n",
    "sequence_length = 50\n",
    "\n",
    "# function to reshape features into (samples, time steps, features) \n",
    "def gen_sequence(id_df, seq_length, seq_cols):\n",
    "    \"\"\" Only sequences that meet the window-length are considered, no padding is used. This means for testing\n",
    "    we need to drop those which are below the window-length. An alternative would be to pad sequences so that\n",
    "    we can use shorter ones \"\"\"\n",
    "    # for one id I put all the rows in a single matrix\n",
    "    data_matrix = id_df[seq_cols].values\n",
    "    num_elements = data_matrix.shape[0]\n",
    "    # Iterate over two lists in parallel.\n",
    "    # For example id1 have 192 rows and sequence_length is equal to 50\n",
    "    # so zip iterate over two following list of numbers (0,112),(50,192)\n",
    "    # 0 50 -> from row 0 to row 50\n",
    "    # 1 51 -> from row 1 to row 51\n",
    "    # 2 52 -> from row 2 to row 52\n",
    "    # ...\n",
    "    # 111 191 -> from row 111 to 191\n",
    "    for start, stop in zip(range(0, num_elements-seq_length), range(seq_length, num_elements)):\n",
    "        yield data_matrix[start:stop, :]\n",
    "        \n",
    "# pick the feature columns \n",
    "sensor_cols = ['s' + str(i) for i in range(1,22)]\n",
    "sequence_cols = ['setting1', 'setting2', 'setting3', 'cycle_norm']\n",
    "sequence_cols.extend(sensor_cols)\n",
    "\n",
    "# generator for the sequences\n",
    "seq_gen = (list(gen_sequence(train_df[train_df['id']==id], sequence_length, sequence_cols)) \n",
    "           for id in train_df['id'].unique())\n",
    "\n",
    "# generate sequences and convert to numpy array\n",
    "seq_array = np.concatenate(list(seq_gen)).astype(np.float32)\n",
    "seq_array.shape\n",
    "print(seq_array.shape)\n",
    "\n",
    "# function to generate labels\n",
    "def gen_labels(id_df, seq_length, label):\n",
    "    # For one id I put all the labels in a single matrix.\n",
    "    # For example:\n",
    "    # [[1]\n",
    "    # [4]\n",
    "    # [1]\n",
    "    # [5]\n",
    "    # [9]\n",
    "    # ...\n",
    "    # [200]] \n",
    "    data_matrix = id_df[label].values\n",
    "    num_elements = data_matrix.shape[0]\n",
    "    # I have to remove the first seq_length labels\n",
    "    # because for one id the first sequence of seq_length size have as target\n",
    "    # the last label (the previus ones are discarded).\n",
    "    # All the next id's sequences will have associated step by step one label as target. \n",
    "    return data_matrix[seq_length:num_elements, :]\n",
    "\n",
    "# generate labels\n",
    "label_gen = [gen_labels(train_df[train_df['id']==id], sequence_length, ['label1']) \n",
    "             for id in train_df['id'].unique()]\n",
    "label_array = np.concatenate(label_gen).astype(np.float32)\n",
    "label_array.shape"
   ]
  },
  {
   "cell_type": "markdown",
   "metadata": {
    "colab_type": "text",
    "id": "57FSFDb4-r3d"
   },
   "source": [
    "## GRU"
   ]
  },
  {
   "cell_type": "code",
   "execution_count": null,
   "metadata": {
    "colab": {
     "base_uri": "https://localhost:8080/",
     "height": 833
    },
    "colab_type": "code",
    "id": "zSInZu-EkFtf",
    "outputId": "eeaa639d-5fe6-41e1-a114-5de359a792c5"
   },
   "outputs": [],
   "source": [
    "# Next, we build a deep network. \n",
    "# The first layer is an GRU layer with 100 units followed by another GRU layer with 50 units. \n",
    "# Dropout is also applied after each LSTM layer to control overfitting. \n",
    "# Final layer is a Dense output layer with single unit and sigmoid activation since this is a binary classification problem.\n",
    "# build the network\n",
    "nb_features = seq_array.shape[2]\n",
    "nb_out = label_array.shape[1]\n",
    "\n",
    "###############################\n",
    "## Original sequential model ##\n",
    "###############################\n",
    "\n",
    "#model = Sequential()\n",
    "\n",
    "#model.add(GRU(\n",
    "#         input_shape=(sequence_length, nb_features),\n",
    "#         units=100,\n",
    "#         return_sequences=True,\n",
    "#         dropout=0.2))\n",
    "\n",
    "#model.add(GRU(\n",
    "#          units=50,\n",
    "#          return_sequences=False,\n",
    "#          dropout=0.2))\n",
    "\n",
    "#model.add(Dense(units=nb_out, activation='sigmoid'))\n",
    "#model.compile(loss='binary_crossentropy', optimizer='adam', metrics=['accuracy'])\n",
    "\n",
    "######################\n",
    "## Functional model ##\n",
    "######################\n",
    "x = Input(shape=(sequence_length, nb_features))\n",
    "\n",
    "gru1 = GRU(units=100, return_sequences=True, dropout=0.2)(x)\n",
    "gru2 = GRU(units=50, return_sequences=False, dropout=0.2)(gru1)\n",
    "dense = Dense(units=nb_out, activation='sigmoid')(gru2)\n",
    "\n",
    "model = Model(input=[x], output=[dense])\n",
    "model2 = Model(input=[x], output=[gru2])\n",
    "model.compile(loss='binary_crossentropy', optimizer='adam', metrics=['accuracy'])\n",
    "\n",
    "print(model.summary())\n",
    "\n",
    "from keras.utils import plot_model\n",
    "plot_model(model, show_shapes=True, to_file='gru-binary.png')"
   ]
  },
  {
   "cell_type": "code",
   "execution_count": null,
   "metadata": {},
   "outputs": [],
   "source": [
    "# fit the network\n",
    "history = model.fit(seq_array, label_array, epochs=100, batch_size=200, validation_split=0.05, verbose=2,\n",
    "          callbacks = [keras.callbacks.EarlyStopping(monitor='val_loss', min_delta=0, patience=10, verbose=0, mode='min'),\n",
    "                       keras.callbacks.ModelCheckpoint(model_path,monitor='val_loss', save_best_only=True, mode='min', verbose=0)]\n",
    "          )\n",
    "\n",
    "# list all data in history\n",
    "print(history.history.keys())"
   ]
  },
  {
   "cell_type": "code",
   "execution_count": null,
   "metadata": {},
   "outputs": [],
   "source": [
    "gru_output = model2.predict(seq_array)\n",
    "gru_output.shape"
   ]
  },
  {
   "cell_type": "code",
   "execution_count": null,
   "metadata": {},
   "outputs": [],
   "source": [
    "pca = PCA(n_components=2)\n",
    "pca.fit(gru_output)\n",
    "gru_output_pca = pca.transform(gru_output)\n",
    "gru_output_pca[:10]"
   ]
  },
  {
   "cell_type": "code",
   "execution_count": null,
   "metadata": {},
   "outputs": [],
   "source": [
    "plt.plot(gru_output_pca[:,0], gru_output_pca[:,1], '.', alpha=0.01)"
   ]
  },
  {
   "cell_type": "markdown",
   "metadata": {},
   "source": [
    "## Model Evaluation on Test set"
   ]
  },
  {
   "cell_type": "code",
   "execution_count": null,
   "metadata": {
    "colab": {
     "base_uri": "https://localhost:8080/",
     "height": 1393
    },
    "colab_type": "code",
    "id": "FpVYSzXkmk5l",
    "outputId": "50af192e-e9df-46ad-ffa3-0b7bd0e3f29c"
   },
   "outputs": [],
   "source": [
    "# summarize history for Accuracy\n",
    "fig_acc = plt.figure(figsize=(10, 10))\n",
    "plt.plot(history.history['accuracy'])\n",
    "plt.plot(history.history['val_accuracy'])\n",
    "plt.title('model accuracy')\n",
    "plt.ylabel('accuracy')\n",
    "plt.xlabel('epoch')\n",
    "plt.legend(['train', 'test'], loc='upper left')\n",
    "plt.show()\n",
    "fig_acc.savefig(\"model_accuracy.png\")\n",
    "\n",
    "# summarize history for Loss\n",
    "fig_acc = plt.figure(figsize=(10, 10))\n",
    "plt.plot(history.history['loss'])\n",
    "plt.plot(history.history['val_loss'])\n",
    "plt.title('model loss')\n",
    "plt.ylabel('loss')\n",
    "plt.xlabel('epoch')\n",
    "plt.legend(['train', 'test'], loc='upper left')\n",
    "plt.show()\n",
    "fig_acc.savefig(\"model_loss.png\")\n",
    "\n",
    "# training metrics\n",
    "scores = model.evaluate(seq_array, label_array, verbose=1, batch_size=200)\n",
    "print('Accurracy: {}'.format(scores[1]))\n",
    "\n",
    "# make predictions and compute confusion matrix\n",
    "y_pred = model.predict_classes(seq_array,verbose=1, batch_size=200)\n",
    "y_true = label_array\n",
    "\n",
    "test_set = pd.DataFrame(y_pred)\n",
    "test_set.to_csv('binary_submit_train.csv', index = None)\n",
    "\n",
    "print('Confusion matrix\\n- x-axis is true labels.\\n- y-axis is predicted labels')\n",
    "cm = confusion_matrix(y_true, y_pred)\n",
    "print(cm)\n",
    "\n",
    "# compute precision and recall\n",
    "precision = precision_score(y_true, y_pred)\n",
    "recall = recall_score(y_true, y_pred)\n",
    "print( 'precision = ', precision, '\\n', 'recall = ', recall)"
   ]
  },
  {
   "cell_type": "markdown",
   "metadata": {
    "colab_type": "text",
    "id": "oxvEuR4S-6VI"
   },
   "source": [
    "## Model Evaluation on Validation set"
   ]
  },
  {
   "cell_type": "code",
   "execution_count": null,
   "metadata": {
    "colab": {
     "base_uri": "https://localhost:8080/",
     "height": 502
    },
    "colab_type": "code",
    "id": "6yT96j4rkL0K",
    "outputId": "f3b3f649-6e83-4795-cafd-1ade4ef4afce"
   },
   "outputs": [],
   "source": [
    "# We pick the last sequence for each id in the test data\n",
    "\n",
    "seq_array_test_last = [test_df[test_df['id']==id][sequence_cols].values[-sequence_length:] \n",
    "                       for id in test_df['id'].unique() if len(test_df[test_df['id']==id]) >= sequence_length]\n",
    "\n",
    "seq_array_test_last = np.asarray(seq_array_test_last).astype(np.float32)\n",
    "print(\"seq_array_test_last\")\n",
    "print(seq_array_test_last)\n",
    "print(seq_array_test_last.shape)\n",
    "\n",
    "# Similarly, we pick the labels\n",
    "\n",
    "print(\"y_mask\")\n",
    "# serve per prendere solo le label delle sequenze che sono almeno lunghe 50\n",
    "y_mask = [len(test_df[test_df['id']==id]) >= sequence_length for id in test_df['id'].unique()]\n",
    "print(\"y_mask\")\n",
    "print(y_mask)\n",
    "label_array_test_last = test_df.groupby('id')['label1'].nth(-1)[y_mask].values\n",
    "label_array_test_last = label_array_test_last.reshape(label_array_test_last.shape[0],1).astype(np.float32)\n",
    "print(label_array_test_last.shape)\n",
    "print(\"label_array_test_last\")\n",
    "print(label_array_test_last)\n",
    "\n",
    "# if best iteration's model was saved then load and use it\n",
    "if os.path.isfile(model_path):\n",
    "    estimator = load_model(model_path)\n",
    "\n",
    "# test metrics\n",
    "scores_test = estimator.evaluate(seq_array_test_last, label_array_test_last, verbose=2)\n",
    "print('Accurracy: {}'.format(scores_test[1]))\n",
    "\n",
    "# make predictions and compute confusion matrix\n",
    "y_pred_test = estimator.predict_classes(seq_array_test_last)\n",
    "y_true_test = label_array_test_last\n",
    "\n",
    "test_set = pd.DataFrame(y_pred_test)\n",
    "test_set.to_csv('binary_submit_test.csv', index = None)\n",
    "\n",
    "print('Confusion matrix\\n- x-axis is true labels.\\n- y-axis is predicted labels')\n",
    "cm = confusion_matrix(y_true_test, y_pred_test)\n",
    "print(cm)\n",
    "\n",
    "# compute precision and recall\n",
    "precision_test = precision_score(y_true_test, y_pred_test)\n",
    "recall_test = recall_score(y_true_test, y_pred_test)\n",
    "f1_test = 2 * (precision_test * recall_test) / (precision_test + recall_test)\n",
    "print( 'Precision: ', precision_test, '\\n', 'Recall: ', recall_test,'\\n', 'F1-score:', f1_test )\n",
    "\n",
    "# Plot in blue color the predicted data and in green color the\n",
    "# actual data to verify visually the accuracy of the model.\n",
    "fig_verify = plt.figure(figsize=(10, 5))\n",
    "plt.plot(y_pred_test, color=\"blue\")\n",
    "plt.plot(y_true_test, color=\"green\")\n",
    "plt.title('prediction')\n",
    "plt.ylabel('value')\n",
    "plt.xlabel('row')\n",
    "plt.legend(['predicted', 'actual data'], loc='upper left')\n",
    "plt.show()\n",
    "fig_verify.savefig(\"model_verify.png\")"
   ]
  },
  {
   "cell_type": "markdown",
   "metadata": {
    "colab_type": "text",
    "id": "ElhakcHtnX9J"
   },
   "source": [
    "# Regression\n",
    "How many more cycles an in-service engine will last before it fails?"
   ]
  },
  {
   "cell_type": "code",
   "execution_count": 1,
   "metadata": {
    "colab": {},
    "colab_type": "code",
    "id": "yWuxznPhATyL"
   },
   "outputs": [
    {
     "name": "stderr",
     "output_type": "stream",
     "text": [
      "Using TensorFlow backend.\n"
     ]
    }
   ],
   "source": [
    "import keras\n",
    "import keras.backend as K\n",
    "from keras.layers.core import Activation\n",
    "from keras.models import Sequential,load_model\n",
    "from keras.layers import Dense, Dropout, LSTM, GRU\n",
    "\n",
    "import pandas as pd\n",
    "import numpy as np\n",
    "import matplotlib.pyplot as plt\n",
    "import os\n",
    "from sklearn import preprocessing\n",
    "\n",
    "# Setting seed for reproducibility\n",
    "np.random.seed(1234)  \n",
    "PYTHONHASHSEED = 0\n",
    "\n",
    "# define path to save model\n",
    "model_path = 'regression_model_gru_2.h5'"
   ]
  },
  {
   "cell_type": "markdown",
   "metadata": {
    "colab_type": "text",
    "id": "LF8N3B5fAZT2"
   },
   "source": [
    "## Data Ingestion"
   ]
  },
  {
   "cell_type": "code",
   "execution_count": 2,
   "metadata": {
    "colab": {},
    "colab_type": "code",
    "id": "JxowlCjhnkId"
   },
   "outputs": [],
   "source": [
    "# read training data - It is the aircraft engine run-to-failure data.\n",
    "train_df = pd.read_csv('../../dataset/PM_train.txt', sep=\" \", header=None)\n",
    "train_df.drop(train_df.columns[[26, 27]], axis=1, inplace=True)\n",
    "train_df.columns = ['id', 'cycle', 'setting1', 'setting2', 'setting3', 's1', 's2', 's3',\n",
    "                     's4', 's5', 's6', 's7', 's8', 's9', 's10', 's11', 's12', 's13', 's14',\n",
    "                     's15', 's16', 's17', 's18', 's19', 's20', 's21']\n",
    "\n",
    "train_df = train_df.sort_values(['id','cycle'])\n",
    "\n",
    "# read test data - It is the aircraft engine operating data without failure events recorded.\n",
    "test_df = pd.read_csv('../../dataset/PM_test.txt', sep=\" \", header=None)\n",
    "test_df.drop(test_df.columns[[26, 27]], axis=1, inplace=True)\n",
    "test_df.columns = ['id', 'cycle', 'setting1', 'setting2', 'setting3', 's1', 's2', 's3',\n",
    "                     's4', 's5', 's6', 's7', 's8', 's9', 's10', 's11', 's12', 's13', 's14',\n",
    "                     's15', 's16', 's17', 's18', 's19', 's20', 's21']\n",
    "\n",
    "# read ground truth data - It contains the information of true remaining cycles for each engine in the testing data.\n",
    "truth_df = pd.read_csv('../../dataset/PM_truth.txt', sep=\" \", header=None)\n",
    "truth_df.drop(truth_df.columns[[1]], axis=1, inplace=True)"
   ]
  },
  {
   "cell_type": "markdown",
   "metadata": {
    "colab_type": "text",
    "id": "MmS3G0OnAegq"
   },
   "source": [
    "## Data Preprocessing"
   ]
  },
  {
   "cell_type": "code",
   "execution_count": 3,
   "metadata": {
    "colab": {
     "base_uri": "https://localhost:8080/",
     "height": 442
    },
    "colab_type": "code",
    "id": "WRfcnQH8nqII",
    "outputId": "62d93a40-7de2-47ed-f73d-e7d388300627"
   },
   "outputs": [
    {
     "name": "stdout",
     "output_type": "stream",
     "text": [
      "   id  cycle  setting1  setting2  setting3   s1        s2        s3        s4  \\\n",
      "0   1      1  0.632184  0.750000       0.0  0.0  0.545181  0.310661  0.269413   \n",
      "1   1      2  0.344828  0.250000       0.0  0.0  0.150602  0.379551  0.222316   \n",
      "2   1      3  0.517241  0.583333       0.0  0.0  0.376506  0.346632  0.322248   \n",
      "3   1      4  0.741379  0.500000       0.0  0.0  0.370482  0.285154  0.408001   \n",
      "4   1      5  0.580460  0.500000       0.0  0.0  0.391566  0.352082  0.332039   \n",
      "\n",
      "    s5  ...       s13       s14       s15  s16       s17  s18  s19       s20  \\\n",
      "0  0.0  ...  0.220588  0.132160  0.308965  0.0  0.333333  0.0  0.0  0.558140   \n",
      "1  0.0  ...  0.264706  0.204768  0.213159  0.0  0.416667  0.0  0.0  0.682171   \n",
      "2  0.0  ...  0.220588  0.155640  0.458638  0.0  0.416667  0.0  0.0  0.728682   \n",
      "3  0.0  ...  0.250000  0.170090  0.257022  0.0  0.250000  0.0  0.0  0.666667   \n",
      "4  0.0  ...  0.220588  0.152751  0.300885  0.0  0.166667  0.0  0.0  0.658915   \n",
      "\n",
      "        s21  cycle_norm  \n",
      "0  0.661834     0.00000  \n",
      "1  0.686827     0.00277  \n",
      "2  0.721348     0.00554  \n",
      "3  0.662110     0.00831  \n",
      "4  0.716377     0.01108  \n",
      "\n",
      "[5 rows x 27 columns]\n",
      "142\n",
      "(15631, 50, 25)\n"
     ]
    },
    {
     "data": {
      "text/plain": [
       "(15631, 1)"
      ]
     },
     "execution_count": 3,
     "metadata": {},
     "output_type": "execute_result"
    }
   ],
   "source": [
    "##################################\n",
    "# Data Preprocessing\n",
    "##################################\n",
    "\n",
    "#######\n",
    "# TRAIN\n",
    "#######\n",
    "# Data Labeling - generate column RUL(Remaining Usefull Life or Time to Failure)\n",
    "rul = pd.DataFrame(train_df.groupby('id')['cycle'].max()).reset_index()\n",
    "rul.columns = ['id', 'max']\n",
    "train_df = train_df.merge(rul, on=['id'], how='left')\n",
    "train_df['RUL'] = train_df['max'] - train_df['cycle']\n",
    "train_df.drop('max', axis=1, inplace=True)\n",
    "\n",
    "# generate label columns for training data\n",
    "# we will only make use of \"label1\" for binary classification, \n",
    "# while trying to answer the question: is a specific engine going to fail within w1 cycles?\n",
    "w1 = 30\n",
    "w0 = 15\n",
    "train_df['label1'] = np.where(train_df['RUL'] <= w1, 1, 0 )\n",
    "train_df['label2'] = train_df['label1']\n",
    "train_df.loc[train_df['RUL'] <= w0, 'label2'] = 2\n",
    "\n",
    "# MinMax normalization (from 0 to 1)\n",
    "train_df['cycle_norm'] = train_df['cycle']\n",
    "cols_normalize = train_df.columns.difference(['id','cycle','RUL','label1','label2'])\n",
    "min_max_scaler = preprocessing.MinMaxScaler()\n",
    "norm_train_df = pd.DataFrame(min_max_scaler.fit_transform(train_df[cols_normalize]), \n",
    "                             columns=cols_normalize, \n",
    "                             index=train_df.index)\n",
    "join_df = train_df[train_df.columns.difference(cols_normalize)].join(norm_train_df)\n",
    "train_df = join_df.reindex(columns = train_df.columns)\n",
    "\n",
    "#train_df.to_csv('PredictiveManteinanceEngineTraining.csv', encoding='utf-8',index = None)\n",
    "\n",
    "######\n",
    "# TEST\n",
    "######\n",
    "# MinMax normalization (from 0 to 1)\n",
    "test_df['cycle_norm'] = test_df['cycle']\n",
    "norm_test_df = pd.DataFrame(min_max_scaler.transform(test_df[cols_normalize]), \n",
    "                            columns=cols_normalize, \n",
    "                            index=test_df.index)\n",
    "test_join_df = test_df[test_df.columns.difference(cols_normalize)].join(norm_test_df)\n",
    "test_df = test_join_df.reindex(columns = test_df.columns)\n",
    "test_df = test_df.reset_index(drop=True)\n",
    "print(test_df.head())\n",
    "\n",
    "# We use the ground truth dataset to generate labels for the test data.\n",
    "# generate column max for test data\n",
    "rul = pd.DataFrame(test_df.groupby('id')['cycle'].max()).reset_index()\n",
    "rul.columns = ['id', 'max']\n",
    "truth_df.columns = ['more']\n",
    "truth_df['id'] = truth_df.index + 1\n",
    "truth_df['max'] = rul['max'] + truth_df['more']\n",
    "truth_df.drop('more', axis=1, inplace=True)\n",
    "\n",
    "# generate RUL for test data\n",
    "test_df = test_df.merge(truth_df, on=['id'], how='left')\n",
    "test_df['RUL'] = test_df['max'] - test_df['cycle']\n",
    "test_df.drop('max', axis=1, inplace=True)\n",
    "\n",
    "# generate label columns w0 and w1 for test data\n",
    "test_df['label1'] = np.where(test_df['RUL'] <= w1, 1, 0 )\n",
    "test_df['label2'] = test_df['label1']\n",
    "test_df.loc[test_df['RUL'] <= w0, 'label2'] = 2\n",
    "\n",
    "#test_df.to_csv('PredictiveManteinanceEngineValidation.csv', encoding='utf-8',index = None)\n",
    "\n",
    "# pick a large window size of 50 cycles\n",
    "sequence_length = 50\n",
    "\n",
    "# function to reshape features into (samples, time steps, features) \n",
    "def gen_sequence(id_df, seq_length, seq_cols):\n",
    "    \"\"\" Only sequences that meet the window-length are considered, no padding is used. This means for testing\n",
    "    we need to drop those which are below the window-length. An alternative would be to pad sequences so that\n",
    "    we can use shorter ones \"\"\"\n",
    "    # for one id I put all the rows in a single matrix\n",
    "    data_matrix = id_df[seq_cols].values\n",
    "    num_elements = data_matrix.shape[0]\n",
    "    # Iterate over two lists in parallel.\n",
    "    # For example id1 have 192 rows and sequence_length is equal to 50\n",
    "    # so zip iterate over two following list of numbers (0,112),(50,192)\n",
    "    # 0 50 -> from row 0 to row 50\n",
    "    # 1 51 -> from row 1 to row 51\n",
    "    # 2 52 -> from row 2 to row 52\n",
    "    # ...\n",
    "    # 111 191 -> from row 111 to 191\n",
    "    for start, stop in zip(range(0, num_elements-seq_length), range(seq_length, num_elements)):\n",
    "        yield data_matrix[start:stop, :]\n",
    "        \n",
    "# pick the feature columns \n",
    "sensor_cols = ['s' + str(i) for i in range(1,22)]\n",
    "sequence_cols = ['setting1', 'setting2', 'setting3', 'cycle_norm']\n",
    "sequence_cols.extend(sensor_cols)\n",
    "\n",
    "# TODO for debug \n",
    "# val is a list of 192 - 50 = 142 bi-dimensional array (50 rows x 25 columns)\n",
    "val=list(gen_sequence(train_df[train_df['id']==1], sequence_length, sequence_cols))\n",
    "print(len(val))\n",
    "\n",
    "# generator for the sequences\n",
    "# transform each id of the train dataset in a sequence\n",
    "seq_gen = (list(gen_sequence(train_df[train_df['id']==id], sequence_length, sequence_cols)) \n",
    "           for id in train_df['id'].unique())\n",
    "\n",
    "# generate sequences and convert to numpy array\n",
    "seq_array = np.concatenate(list(seq_gen)).astype(np.float32)\n",
    "print(seq_array.shape)\n",
    "\n",
    "# function to generate labels\n",
    "def gen_labels(id_df, seq_length, label):\n",
    "    \"\"\" Only sequences that meet the window-length are considered, no padding is used. This means for testing\n",
    "    we need to drop those which are below the window-length. An alternative would be to pad sequences so that\n",
    "    we can use shorter ones \"\"\"\n",
    "    # For one id I put all the labels in a single matrix.\n",
    "    # For example:\n",
    "    # [[1]\n",
    "    # [4]\n",
    "    # [1]\n",
    "    # [5]\n",
    "    # [9]\n",
    "    # ...\n",
    "    # [200]] \n",
    "    data_matrix = id_df[label].values\n",
    "    num_elements = data_matrix.shape[0]\n",
    "    # I have to remove the first seq_length labels\n",
    "    # because for one id the first sequence of seq_length size have as target\n",
    "    # the last label (the previus ones are discarded).\n",
    "    # All the next id's sequences will have associated step by step one label as target.\n",
    "    return data_matrix[seq_length:num_elements, :]\n",
    "\n",
    "# generate labels\n",
    "label_gen = [gen_labels(train_df[train_df['id']==id], sequence_length, ['RUL']) \n",
    "             for id in train_df['id'].unique()]\n",
    "\n",
    "label_array = np.concatenate(label_gen).astype(np.float32)\n",
    "label_array.shape"
   ]
  },
  {
   "cell_type": "markdown",
   "metadata": {
    "colab_type": "text",
    "id": "7ps8UixLAj1D"
   },
   "source": [
    "## GRU"
   ]
  },
  {
   "cell_type": "code",
   "execution_count": 4,
   "metadata": {
    "colab": {
     "base_uri": "https://localhost:8080/",
     "height": 2417
    },
    "colab_type": "code",
    "id": "gPx1AzOan6VT",
    "outputId": "b037bc16-3ae9-4be8-ada2-36737c8db0f3",
    "scrolled": true
   },
   "outputs": [
    {
     "name": "stdout",
     "output_type": "stream",
     "text": [
      "Model: \"sequential_1\"\n",
      "_________________________________________________________________\n",
      "Layer (type)                 Output Shape              Param #   \n",
      "=================================================================\n",
      "gru_1 (GRU)                  (None, 50, 100)           37800     \n",
      "_________________________________________________________________\n",
      "dropout_1 (Dropout)          (None, 50, 100)           0         \n",
      "_________________________________________________________________\n",
      "gru_2 (GRU)                  (None, 50)                22650     \n",
      "_________________________________________________________________\n",
      "dropout_2 (Dropout)          (None, 50)                0         \n",
      "_________________________________________________________________\n",
      "dense_1 (Dense)              (None, 1)                 51        \n",
      "_________________________________________________________________\n",
      "activation_1 (Activation)    (None, 1)                 0         \n",
      "=================================================================\n",
      "Total params: 60,501\n",
      "Trainable params: 60,501\n",
      "Non-trainable params: 0\n",
      "_________________________________________________________________\n",
      "None\n",
      "Train on 14849 samples, validate on 782 samples\n",
      "Epoch 1/100\n",
      " - 5s - loss: 8798.9864 - mae: 75.0815 - r2_keras: -1.7145e+00 - val_loss: 8252.8916 - val_mae: 72.4246 - val_r2_keras: -2.4723e+00\n",
      "Epoch 2/100\n",
      " - 4s - loss: 8159.9006 - mae: 71.3775 - r2_keras: -1.5132e+00 - val_loss: 7726.5384 - val_mae: 69.3658 - val_r2_keras: -2.2236e+00\n",
      "Epoch 3/100\n",
      " - 4s - loss: 7653.0058 - mae: 68.4501 - r2_keras: -1.3533e+00 - val_loss: 7228.9789 - val_mae: 66.4905 - val_r2_keras: -1.9904e+00\n",
      "Epoch 4/100\n",
      " - 4s - loss: 7158.3992 - mae: 65.6484 - r2_keras: -1.2028e+00 - val_loss: 6761.3785 - val_mae: 63.8053 - val_r2_keras: -1.7732e+00\n",
      "Epoch 5/100\n",
      " - 4s - loss: 6698.1914 - mae: 63.0296 - r2_keras: -1.0625e+00 - val_loss: 6322.4018 - val_mae: 61.3044 - val_r2_keras: -1.5714e+00\n",
      "Epoch 6/100\n",
      " - 4s - loss: 6280.2982 - mae: 60.6800 - r2_keras: -9.3688e-01 - val_loss: 5912.0471 - val_mae: 58.9867 - val_r2_keras: -1.3849e+00\n",
      "Epoch 7/100\n",
      " - 4s - loss: 5874.1737 - mae: 58.4238 - r2_keras: -8.1465e-01 - val_loss: 5528.2848 - val_mae: 56.8401 - val_r2_keras: -1.2130e+00\n",
      "Epoch 8/100\n",
      " - 4s - loss: 5517.4060 - mae: 56.4436 - r2_keras: -6.9972e-01 - val_loss: 5178.6819 - val_mae: 54.9065 - val_r2_keras: -1.0588e+00\n",
      "Epoch 9/100\n",
      " - 4s - loss: 5168.8901 - mae: 54.5736 - r2_keras: -5.9177e-01 - val_loss: 4856.4900 - val_mae: 53.1489 - val_r2_keras: -9.1951e-01\n",
      "Epoch 10/100\n",
      " - 4s - loss: 4849.2475 - mae: 52.8462 - r2_keras: -4.9144e-01 - val_loss: 4559.7845 - val_mae: 51.5584 - val_r2_keras: -7.9419e-01\n",
      "Epoch 11/100\n",
      " - 4s - loss: 4572.2947 - mae: 51.3727 - r2_keras: -4.0518e-01 - val_loss: 4294.3233 - val_mae: 50.1640 - val_r2_keras: -6.8532e-01\n",
      "Epoch 12/100\n",
      " - 4s - loss: 4332.1147 - mae: 50.1748 - r2_keras: -3.2975e-01 - val_loss: 4058.8399 - val_mae: 48.9576 - val_r2_keras: -5.9227e-01\n",
      "Epoch 13/100\n",
      " - 4s - loss: 4100.9148 - mae: 48.9735 - r2_keras: -2.6128e-01 - val_loss: 3850.9071 - val_mae: 47.9280 - val_r2_keras: -5.1403e-01\n",
      "Epoch 14/100\n",
      " - 4s - loss: 3910.6936 - mae: 48.1085 - r2_keras: -2.0189e-01 - val_loss: 3672.3105 - val_mae: 47.0839 - val_r2_keras: -4.5122e-01\n",
      "Epoch 15/100\n",
      " - 4s - loss: 3732.5905 - mae: 47.3474 - r2_keras: -1.4630e-01 - val_loss: 3522.6397 - val_mae: 46.4191 - val_r2_keras: -4.0349e-01\n",
      "Epoch 16/100\n",
      " - 4s - loss: 3610.9655 - mae: 46.8419 - r2_keras: -1.0987e-01 - val_loss: 3399.6671 - val_mae: 45.9246 - val_r2_keras: -3.6998e-01\n",
      "Epoch 17/100\n",
      " - 4s - loss: 3492.2797 - mae: 46.4092 - r2_keras: -7.2459e-02 - val_loss: 3305.9629 - val_mae: 45.6063 - val_r2_keras: -3.5097e-01\n",
      "Epoch 18/100\n",
      " - 4s - loss: 3414.1683 - mae: 46.2331 - r2_keras: -5.0202e-02 - val_loss: 3236.8080 - val_mae: 45.4428 - val_r2_keras: -3.4493e-01\n",
      "Epoch 19/100\n",
      " - 4s - loss: 3360.4969 - mae: 46.1634 - r2_keras: -3.1924e-02 - val_loss: 3195.9565 - val_mae: 45.4242 - val_r2_keras: -3.5008e-01\n",
      "Epoch 20/100\n",
      " - 4s - loss: 3319.4405 - mae: 46.0843 - r2_keras: -2.0651e-02 - val_loss: 3176.7247 - val_mae: 45.4879 - val_r2_keras: -3.6071e-01\n",
      "Epoch 21/100\n",
      " - 4s - loss: 3304.8979 - mae: 46.1485 - r2_keras: -1.6397e-02 - val_loss: 3169.8522 - val_mae: 45.5717 - val_r2_keras: -3.7115e-01\n",
      "Epoch 22/100\n",
      " - 4s - loss: 3304.1645 - mae: 46.3313 - r2_keras: -1.4636e-02 - val_loss: 3168.1224 - val_mae: 45.6334 - val_r2_keras: -3.7834e-01\n",
      "Epoch 23/100\n",
      " - 4s - loss: 3305.2190 - mae: 46.3696 - r2_keras: -1.6590e-02 - val_loss: 3167.9379 - val_mae: 45.6506 - val_r2_keras: -3.8034e-01\n",
      "Epoch 24/100\n",
      " - 4s - loss: 3304.4110 - mae: 46.3536 - r2_keras: -1.4576e-02 - val_loss: 3167.8789 - val_mae: 45.6609 - val_r2_keras: -3.8156e-01\n",
      "Epoch 25/100\n",
      " - 4s - loss: 3306.0637 - mae: 46.3616 - r2_keras: -1.5585e-02 - val_loss: 3157.6881 - val_mae: 45.5362 - val_r2_keras: -3.7216e-01\n",
      "Epoch 26/100\n",
      " - 4s - loss: 2993.3366 - mae: 42.6304 - r2_keras: 0.0866 - val_loss: 2324.2436 - val_mae: 36.9204 - val_r2_keras: 0.0701\n",
      "Epoch 27/100\n",
      " - 4s - loss: 2167.1229 - mae: 32.7655 - r2_keras: 0.3366 - val_loss: 2114.7199 - val_mae: 32.4398 - val_r2_keras: 0.2703\n",
      "Epoch 28/100\n",
      " - 4s - loss: 1967.0913 - mae: 30.3651 - r2_keras: 0.3973 - val_loss: 1832.3484 - val_mae: 31.3862 - val_r2_keras: 0.2831\n",
      "Epoch 29/100\n",
      " - 4s - loss: 1788.0987 - mae: 28.2800 - r2_keras: 0.4557 - val_loss: 1550.3538 - val_mae: 26.6423 - val_r2_keras: 0.4297\n",
      "Epoch 30/100\n",
      " - 4s - loss: 1575.0745 - mae: 25.5130 - r2_keras: 0.5213 - val_loss: 1593.4040 - val_mae: 25.0753 - val_r2_keras: 0.4826\n",
      "Epoch 31/100\n",
      " - 4s - loss: 1454.1766 - mae: 24.0992 - r2_keras: 0.5573 - val_loss: 1495.9278 - val_mae: 24.6456 - val_r2_keras: 0.4811\n",
      "Epoch 32/100\n",
      " - 4s - loss: 1336.3796 - mae: 22.8526 - r2_keras: 0.5932 - val_loss: 1337.9921 - val_mae: 25.9934 - val_r2_keras: 0.4622\n",
      "Epoch 33/100\n",
      " - 4s - loss: 1243.0589 - mae: 22.0539 - r2_keras: 0.6215 - val_loss: 1080.3706 - val_mae: 20.0943 - val_r2_keras: 0.6305\n",
      "Epoch 34/100\n",
      " - 4s - loss: 1170.6777 - mae: 21.4422 - r2_keras: 0.6443 - val_loss: 1030.4037 - val_mae: 20.8684 - val_r2_keras: 0.6433\n",
      "Epoch 35/100\n",
      " - 4s - loss: 1107.3806 - mae: 20.7318 - r2_keras: 0.6625 - val_loss: 1036.4757 - val_mae: 19.3584 - val_r2_keras: 0.6557\n",
      "Epoch 36/100\n",
      " - 4s - loss: 1057.9651 - mae: 20.3697 - r2_keras: 0.6781 - val_loss: 883.2179 - val_mae: 18.2290 - val_r2_keras: 0.6964\n",
      "Epoch 37/100\n",
      " - 4s - loss: 995.1137 - mae: 19.8409 - r2_keras: 0.6966 - val_loss: 991.4614 - val_mae: 23.2905 - val_r2_keras: 0.5900\n",
      "Epoch 38/100\n",
      " - 4s - loss: 940.4062 - mae: 19.3703 - r2_keras: 0.7140 - val_loss: 784.3166 - val_mae: 18.1351 - val_r2_keras: 0.7175\n",
      "Epoch 39/100\n",
      " - 4s - loss: 905.4802 - mae: 19.0430 - r2_keras: 0.7238 - val_loss: 767.7428 - val_mae: 17.4816 - val_r2_keras: 0.7063\n",
      "Epoch 40/100\n",
      " - 4s - loss: 871.9281 - mae: 18.8808 - r2_keras: 0.7346 - val_loss: 707.0518 - val_mae: 16.7982 - val_r2_keras: 0.7318\n",
      "Epoch 41/100\n",
      " - 4s - loss: 847.1072 - mae: 18.6338 - r2_keras: 0.7414 - val_loss: 669.0109 - val_mae: 16.2037 - val_r2_keras: 0.7544\n",
      "Epoch 42/100\n",
      " - 4s - loss: 816.3630 - mae: 18.4285 - r2_keras: 0.7499 - val_loss: 667.5607 - val_mae: 16.0066 - val_r2_keras: 0.7650\n",
      "Epoch 43/100\n",
      " - 4s - loss: 782.6842 - mae: 18.0830 - r2_keras: 0.7612 - val_loss: 609.4466 - val_mae: 15.1712 - val_r2_keras: 0.7730\n",
      "Epoch 44/100\n",
      " - 4s - loss: 772.4852 - mae: 17.9798 - r2_keras: 0.7641 - val_loss: 798.9922 - val_mae: 19.0444 - val_r2_keras: 0.6093\n",
      "Epoch 45/100\n",
      " - 4s - loss: 761.0008 - mae: 17.9038 - r2_keras: 0.7668 - val_loss: 600.7850 - val_mae: 15.6570 - val_r2_keras: 0.7474\n",
      "Epoch 46/100\n",
      " - 4s - loss: 747.9364 - mae: 17.8020 - r2_keras: 0.7699 - val_loss: 575.3974 - val_mae: 14.0183 - val_r2_keras: 0.7796\n",
      "Epoch 47/100\n",
      " - 4s - loss: 717.4780 - mae: 17.3771 - r2_keras: 0.7826 - val_loss: 668.6328 - val_mae: 19.0303 - val_r2_keras: 0.6881\n",
      "Epoch 48/100\n",
      " - 4s - loss: 709.7871 - mae: 17.4014 - r2_keras: 0.7819 - val_loss: 655.5439 - val_mae: 16.5258 - val_r2_keras: 0.7596\n",
      "Epoch 49/100\n",
      " - 4s - loss: 711.2241 - mae: 17.3836 - r2_keras: 0.7831 - val_loss: 587.6043 - val_mae: 15.5311 - val_r2_keras: 0.7630\n",
      "Epoch 50/100\n",
      " - 5s - loss: 695.5102 - mae: 17.2553 - r2_keras: 0.7871 - val_loss: 617.0060 - val_mae: 18.5044 - val_r2_keras: 0.7191\n",
      "Epoch 51/100\n",
      " - 4s - loss: 689.6005 - mae: 17.2408 - r2_keras: 0.7903 - val_loss: 586.5624 - val_mae: 14.3888 - val_r2_keras: 0.7841\n"
     ]
    },
    {
     "name": "stdout",
     "output_type": "stream",
     "text": [
      "Epoch 52/100\n",
      " - 4s - loss: 684.1238 - mae: 17.2039 - r2_keras: 0.7906 - val_loss: 642.0672 - val_mae: 16.3449 - val_r2_keras: 0.7561\n",
      "Epoch 53/100\n",
      " - 4s - loss: 674.9406 - mae: 17.0112 - r2_keras: 0.7936 - val_loss: 546.7670 - val_mae: 16.3909 - val_r2_keras: 0.7642\n",
      "Epoch 54/100\n",
      " - 5s - loss: 660.5446 - mae: 16.7929 - r2_keras: 0.7985 - val_loss: 660.6605 - val_mae: 18.0425 - val_r2_keras: 0.6614\n",
      "Epoch 55/100\n",
      " - 4s - loss: 662.4536 - mae: 16.8528 - r2_keras: 0.7969 - val_loss: 598.3693 - val_mae: 17.1707 - val_r2_keras: 0.7039\n",
      "Epoch 56/100\n",
      " - 4s - loss: 653.7319 - mae: 16.7815 - r2_keras: 0.8001 - val_loss: 569.9661 - val_mae: 14.8219 - val_r2_keras: 0.7745\n",
      "Epoch 57/100\n",
      " - 4s - loss: 641.8940 - mae: 16.5872 - r2_keras: 0.8034 - val_loss: 741.5926 - val_mae: 21.9519 - val_r2_keras: 0.6155\n",
      "Epoch 58/100\n",
      " - 4s - loss: 636.6179 - mae: 16.5584 - r2_keras: 0.8055 - val_loss: 582.1612 - val_mae: 16.2499 - val_r2_keras: 0.7397\n",
      "Epoch 59/100\n",
      " - 4s - loss: 632.6911 - mae: 16.5258 - r2_keras: 0.8074 - val_loss: 532.9505 - val_mae: 14.2335 - val_r2_keras: 0.7715\n",
      "Epoch 60/100\n",
      " - 4s - loss: 635.4228 - mae: 16.5969 - r2_keras: 0.8050 - val_loss: 500.1639 - val_mae: 14.0941 - val_r2_keras: 0.7671\n",
      "Epoch 61/100\n",
      " - 4s - loss: 622.8202 - mae: 16.2899 - r2_keras: 0.8089 - val_loss: 581.9747 - val_mae: 14.3648 - val_r2_keras: 0.7764\n",
      "Epoch 62/100\n",
      " - 4s - loss: 629.8601 - mae: 16.4030 - r2_keras: 0.8084 - val_loss: 552.8868 - val_mae: 14.9643 - val_r2_keras: 0.7389\n",
      "Epoch 63/100\n",
      " - 4s - loss: 605.7763 - mae: 16.0757 - r2_keras: 0.8148 - val_loss: 545.3140 - val_mae: 15.0014 - val_r2_keras: 0.7556\n",
      "Epoch 64/100\n",
      " - 4s - loss: 603.9084 - mae: 16.0528 - r2_keras: 0.8159 - val_loss: 653.3105 - val_mae: 16.7776 - val_r2_keras: 0.7371\n",
      "Epoch 65/100\n",
      " - 4s - loss: 604.7624 - mae: 15.9870 - r2_keras: 0.8141 - val_loss: 697.5336 - val_mae: 17.5844 - val_r2_keras: 0.7172\n",
      "Epoch 66/100\n",
      " - 4s - loss: 596.3124 - mae: 15.9339 - r2_keras: 0.8173 - val_loss: 683.9144 - val_mae: 15.1619 - val_r2_keras: 0.7471\n",
      "Epoch 67/100\n",
      " - 4s - loss: 584.8637 - mae: 15.9016 - r2_keras: 0.8211 - val_loss: 702.3544 - val_mae: 19.1344 - val_r2_keras: 0.6211\n",
      "Epoch 68/100\n",
      " - 5s - loss: 583.5005 - mae: 15.6540 - r2_keras: 0.8201 - val_loss: 649.4002 - val_mae: 16.8035 - val_r2_keras: 0.7241\n",
      "Epoch 69/100\n",
      " - 5s - loss: 572.9485 - mae: 15.6059 - r2_keras: 0.8254 - val_loss: 610.5130 - val_mae: 16.6861 - val_r2_keras: 0.7109\n",
      "Epoch 70/100\n",
      " - 5s - loss: 584.7392 - mae: 15.8363 - r2_keras: 0.8214 - val_loss: 613.2468 - val_mae: 14.8941 - val_r2_keras: 0.6787\n",
      "dict_keys(['val_loss', 'val_mae', 'val_r2_keras', 'loss', 'mae', 'r2_keras'])\n"
     ]
    }
   ],
   "source": [
    "def r2_keras(y_true, y_pred):\n",
    "    \"\"\"Coefficient of Determination \n",
    "    \"\"\"\n",
    "    SS_res =  K.sum(K.square( y_true - y_pred ))\n",
    "    SS_tot = K.sum(K.square( y_true - K.mean(y_true) ) )\n",
    "    return ( 1 - SS_res/(SS_tot + K.epsilon()) )\n",
    "\n",
    "# Next, we build a deep network. \n",
    "# The first layer is an LSTM layer with 100 units followed by another LSTM layer with 50 units. \n",
    "# Dropout is also applied after each LSTM layer to control overfitting. \n",
    "# Final layer is a Dense output layer with single unit and linear activation since this is a regression problem.\n",
    "nb_features = seq_array.shape[2]\n",
    "nb_out = label_array.shape[1]\n",
    "\n",
    "model = Sequential()\n",
    "model.add(GRU(\n",
    "         input_shape=(sequence_length, nb_features),\n",
    "         units=100,\n",
    "         return_sequences=True))\n",
    "model.add(Dropout(0.2))\n",
    "model.add(GRU(\n",
    "          units=50,\n",
    "          return_sequences=False))\n",
    "model.add(Dropout(0.2))\n",
    "model.add(Dense(units=nb_out))\n",
    "model.add(Activation(\"linear\"))\n",
    "model.compile(loss='mean_squared_error', optimizer='rmsprop',metrics=['mae',r2_keras])\n",
    "\n",
    "print(model.summary())\n",
    "\n",
    "from keras.utils import plot_model\n",
    "plot_model(model, show_shapes=True, to_file='gru-regression.png')\n",
    "\n",
    "# fit the network\n",
    "history = model.fit(seq_array, label_array, epochs=100, batch_size=200, validation_split=0.05, verbose=2,\n",
    "          callbacks = [keras.callbacks.EarlyStopping(monitor='val_loss', min_delta=0, patience=10, verbose=0, mode='min'),\n",
    "                       keras.callbacks.ModelCheckpoint(model_path,monitor='val_loss', save_best_only=True, mode='min', verbose=0)]\n",
    "          )\n",
    "\n",
    "# list all data in history\n",
    "print(history.history.keys())"
   ]
  },
  {
   "cell_type": "code",
   "execution_count": 5,
   "metadata": {},
   "outputs": [
    {
     "data": {
      "image/png": "[encoded data removed]",
      "text/plain": [
       "<IPython.core.display.Image object>"
      ]
     },
     "execution_count": 5,
     "metadata": {},
     "output_type": "execute_result"
    }
   ],
   "source": [
    "from keras.utils import plot_model\n",
    "plot_model(model, show_shapes=True, to_file='gru-regression.png')"
   ]
  },
  {
   "cell_type": "markdown",
   "metadata": {
    "colab_type": "text",
    "id": "F_AqerQKAsaA"
   },
   "source": [
    "## Model Evaluation on Test set"
   ]
  },
  {
   "cell_type": "code",
   "execution_count": 6,
   "metadata": {
    "colab": {
     "base_uri": "https://localhost:8080/",
     "height": 1928
    },
    "colab_type": "code",
    "id": "mNHApglLn-CT",
    "outputId": "1f43329c-c0c7-442b-dd57-978fc205a1f4"
   },
   "outputs": [
    {
     "data": {
      "image/png": "[encoded data removed]",
      "text/plain": [
       "<Figure size 720x720 with 1 Axes>"
      ]
     },
     "metadata": {
      "needs_background": "light"
     },
     "output_type": "display_data"
    },
    {
     "data": {
      "image/png": "[encoded data removed]",
      "text/plain": [
       "<Figure size 720x720 with 1 Axes>"
      ]
     },
     "metadata": {
      "needs_background": "light"
     },
     "output_type": "display_data"
    },
    {
     "data": {
      "image/png": "[encoded data removed]",
      "text/plain": [
       "<Figure size 720x720 with 1 Axes>"
      ]
     },
     "metadata": {
      "needs_background": "light"
     },
     "output_type": "display_data"
    },
    {
     "name": "stdout",
     "output_type": "stream",
     "text": [
      "15631/15631 [==============================] - 1s 73us/step\n",
      "\n",
      "MAE: 13.703428268432617\n",
      "\n",
      "R^2: 0.8121280074119568\n",
      "15631/15631 [==============================] - 1s 76us/step\n"
     ]
    }
   ],
   "source": [
    "# summarize history for R^2\n",
    "fig_acc = plt.figure(figsize=(10, 10))\n",
    "plt.plot(history.history['r2_keras'])\n",
    "plt.plot(history.history['val_r2_keras'])\n",
    "plt.title('model r^2')\n",
    "plt.ylabel('R^2')\n",
    "plt.xlabel('epoch')\n",
    "plt.legend(['train', 'test'], loc='upper left')\n",
    "plt.show()\n",
    "fig_acc.savefig(\"model_r2.png\")\n",
    "\n",
    "# summarize history for MAE\n",
    "fig_acc = plt.figure(figsize=(10, 10))\n",
    "plt.plot(history.history['mae'])\n",
    "plt.plot(history.history['val_mae'])\n",
    "plt.title('model MAE')\n",
    "plt.ylabel('MAE')\n",
    "plt.xlabel('epoch')\n",
    "plt.legend(['train', 'test'], loc='upper left')\n",
    "plt.show()\n",
    "fig_acc.savefig(\"model_mae.png\")\n",
    "\n",
    "# summarize history for Loss\n",
    "fig_acc = plt.figure(figsize=(10, 10))\n",
    "plt.plot(history.history['loss'])\n",
    "plt.plot(history.history['val_loss'])\n",
    "plt.title('model loss')\n",
    "plt.ylabel('loss')\n",
    "plt.xlabel('epoch')\n",
    "plt.legend(['train', 'test'], loc='upper left')\n",
    "plt.show()\n",
    "fig_acc.savefig(\"model_regression_loss.png\")\n",
    "\n",
    "# training metrics\n",
    "scores = model.evaluate(seq_array, label_array, verbose=1, batch_size=200)\n",
    "print('\\nMAE: {}'.format(scores[1]))\n",
    "print('\\nR^2: {}'.format(scores[2]))\n",
    "\n",
    "y_pred = model.predict(seq_array,verbose=1, batch_size=200)\n",
    "y_true = label_array\n",
    "\n",
    "test_set = pd.DataFrame(y_pred)\n",
    "test_set.to_csv('submit_train.csv', index = None)"
   ]
  },
  {
   "cell_type": "markdown",
   "metadata": {
    "colab_type": "text",
    "id": "X-4BShGEAyMP"
   },
   "source": [
    "## Evaluate on Validation set"
   ]
  },
  {
   "cell_type": "code",
   "execution_count": 7,
   "metadata": {
    "colab": {
     "base_uri": "https://localhost:8080/",
     "height": 417
    },
    "colab_type": "code",
    "id": "pDrp7F6Fn-3p",
    "outputId": "7aa247a4-07fe-45c8-f3ca-1074eb5059e5"
   },
   "outputs": [
    {
     "name": "stdout",
     "output_type": "stream",
     "text": [
      "\n",
      "MAE: 12.859810829162598\n",
      "\n",
      "R^2: 0.7582281231880188\n"
     ]
    },
    {
     "data": {
      "image/png": "[encoded data removed]",
      "text/plain": [
       "<Figure size 720x360 with 1 Axes>"
      ]
     },
     "metadata": {
      "needs_background": "light"
     },
     "output_type": "display_data"
    }
   ],
   "source": [
    "# We pick the last sequence for each id in the test data\n",
    "seq_array_test_last = [test_df[test_df['id']==id][sequence_cols].values[-sequence_length:] \n",
    "                       for id in test_df['id'].unique() if len(test_df[test_df['id']==id]) >= sequence_length]\n",
    "\n",
    "seq_array_test_last = np.asarray(seq_array_test_last).astype(np.float32)\n",
    "#print(\"seq_array_test_last\")\n",
    "#print(seq_array_test_last)\n",
    "#print(seq_array_test_last.shape)\n",
    "\n",
    "# Similarly, we pick the labels\n",
    "#print(\"y_mask\")\n",
    "y_mask = [len(test_df[test_df['id']==id]) >= sequence_length for id in test_df['id'].unique()]\n",
    "label_array_test_last = test_df.groupby('id')['RUL'].nth(-1)[y_mask].values\n",
    "label_array_test_last = label_array_test_last.reshape(label_array_test_last.shape[0],1).astype(np.float32)\n",
    "#print(label_array_test_last.shape)\n",
    "#print(\"label_array_test_last\")\n",
    "#print(label_array_test_last)\n",
    "\n",
    "# if best iteration's model was saved then load and use it\n",
    "if os.path.isfile(model_path):\n",
    "    estimator = load_model(model_path,custom_objects={'r2_keras': r2_keras})\n",
    "\n",
    "    # test metrics\n",
    "    scores_test = estimator.evaluate(seq_array_test_last, label_array_test_last, verbose=2)\n",
    "    print('\\nMAE: {}'.format(scores_test[1]))\n",
    "    print('\\nR^2: {}'.format(scores_test[2]))\n",
    "\n",
    "    y_pred_test = estimator.predict(seq_array_test_last)\n",
    "    y_true_test = label_array_test_last\n",
    "\n",
    "    test_set = pd.DataFrame(y_pred_test)\n",
    "    test_set.to_csv('submit_test.csv', index = None)\n",
    "\n",
    "    # Plot in blue color the predicted data and in green color the\n",
    "    # actual data to verify visually the accuracy of the model.\n",
    "    fig_verify = plt.figure(figsize=(10, 5))\n",
    "    plt.plot(y_pred_test, color=\"blue\")\n",
    "    plt.plot(y_true_test, color=\"green\")\n",
    "    plt.title('prediction')\n",
    "    plt.ylabel('value')\n",
    "    plt.xlabel('row')\n",
    "    plt.legend(['predicted', 'actual data'], loc='upper left')\n",
    "    plt.show()\n",
    "    fig_verify.savefig(\"model_regression_verify.png\")"
   ]
  },
  {
   "cell_type": "markdown",
   "metadata": {
    "colab_type": "text",
    "id": "j1T8y5qA91x8"
   },
   "source": [
    "# References\n",
    "\n",
    "\n",
    "- [1] Deep Learning for Predictive Maintenance https://github.com/Azure/lstms_for_predictive_maintenance/blob/master/Deep%20Learning%20Basics%20for%20Predictive%20Maintenance.ipynb\n",
    "- [2] Predictive Maintenance: Step 2A of 3, train and evaluate regression models https://gallery.cortanaintelligence.com/Experiment/Predictive-Maintenance-Step-2A-of-3-train-and-evaluate-regression-models-2\n",
    "- [3] A. Saxena and K. Goebel (2008). \"Turbofan Engine Degradation Simulation Data Set\", NASA Ames Prognostics Data Repository (https://ti.arc.nasa.gov/tech/dash/groups/pcoe/prognostic-data-repository/#turbofan), NASA Ames Research Center, Moffett Field, CA \n",
    "- [4] Understanding LSTM Networks http://colah.github.io/posts/2015-08-Understanding-LSTMs/\n",
    "\n"
   ]
  }
 ],
 "metadata": {
  "accelerator": "GPU",
  "colab": {
   "collapsed_sections": [
    "4BsYPkY7gYGx",
    "ElhakcHtnX9J"
   ],
   "name": "Copia de Predictive-Maintenance-using-LSTM.ipynb",
   "provenance": [],
   "toc_visible": true
  },
  "kernelspec": {
   "display_name": "Python 3",
   "language": "python",
   "name": "python3"
  },
  "language_info": {
   "codemirror_mode": {
    "name": "ipython",
    "version": 3
   },
   "file_extension": ".py",
   "mimetype": "text/x-python",
   "name": "python",
   "nbconvert_exporter": "python",
   "pygments_lexer": "ipython3",
   "version": "3.7.7"
  }
 },
 "nbformat": 4,
 "nbformat_minor": 1
}
