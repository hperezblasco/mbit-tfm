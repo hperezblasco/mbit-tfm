{
 "cells": [
  {
   "cell_type": "code",
   "execution_count": 13,
   "metadata": {
    "colab": {
     "base_uri": "https://localhost:8080/",
     "height": 470
    },
    "colab_type": "code",
    "id": "70-XsHkDGUKu",
    "outputId": "1c0a9ba0-98db-4547-825e-ad3e68210646"
   },
   "outputs": [
    {
     "data": {
      "text/plain": [
       "[name: \"/device:CPU:0\"\n",
       " device_type: \"CPU\"\n",
       " memory_limit: 268435456\n",
       " locality {\n",
       " }\n",
       " incarnation: 16882485363107244590,\n",
       " name: \"/device:XLA_CPU:0\"\n",
       " device_type: \"XLA_CPU\"\n",
       " memory_limit: 17179869184\n",
       " locality {\n",
       " }\n",
       " incarnation: 15312666307694540783\n",
       " physical_device_desc: \"device: XLA_CPU device\",\n",
       " name: \"/device:GPU:0\"\n",
       " device_type: \"GPU\"\n",
       " memory_limit: 7029810791\n",
       " locality {\n",
       "   bus_id: 1\n",
       "   links {\n",
       "   }\n",
       " }\n",
       " incarnation: 1400622370182692399\n",
       " physical_device_desc: \"device: 0, name: GeForce RTX 2080 with Max-Q Design, pci bus id: 0000:01:00.0, compute capability: 7.5\",\n",
       " name: \"/device:XLA_GPU:0\"\n",
       " device_type: \"XLA_GPU\"\n",
       " memory_limit: 17179869184\n",
       " locality {\n",
       " }\n",
       " incarnation: 18064238196062234249\n",
       " physical_device_desc: \"device: XLA_GPU device\"]"
      ]
     },
     "execution_count": 13,
     "metadata": {},
     "output_type": "execute_result"
    }
   ],
   "source": [
    "from tensorflow.python.client import device_lib\n",
    "device_lib.list_local_devices()"
   ]
  },
  {
   "cell_type": "markdown",
   "metadata": {
    "colab_type": "text",
    "id": "4BsYPkY7gYGx"
   },
   "source": [
    "# Binary classification\n",
    "Predict if an asset will fail within certain time frame (e.g. cycles)"
   ]
  },
  {
   "cell_type": "code",
   "execution_count": 14,
   "metadata": {
    "colab": {
     "base_uri": "https://localhost:8080/",
     "height": 34
    },
    "colab_type": "code",
    "id": "QfpzPSgG-If3",
    "outputId": "8bfae4e9-f071-4eca-eed2-07518ecc3163"
   },
   "outputs": [],
   "source": [
    "import keras\n",
    "import pandas as pd\n",
    "import numpy as np\n",
    "import matplotlib.pyplot as plt\n",
    "import os\n",
    "\n",
    "# Setting seed for reproducibility\n",
    "np.random.seed(1234)  \n",
    "PYTHONHASHSEED = 0\n",
    "\n",
    "from sklearn import preprocessing\n",
    "from sklearn.metrics import confusion_matrix, recall_score, precision_score\n",
    "from sklearn.decomposition import PCA\n",
    "from keras.models import Sequential,load_model, Input, Model\n",
    "from keras.layers import Dense, Dropout, LSTM, CuDNNLSTM\n",
    "\n",
    "# define path to save model\n",
    "model_path = 'binary_model.h5'"
   ]
  },
  {
   "cell_type": "markdown",
   "metadata": {
    "colab_type": "text",
    "id": "EilFg--x-ety"
   },
   "source": [
    "## Data Ingestion"
   ]
  },
  {
   "cell_type": "code",
   "execution_count": 15,
   "metadata": {
    "colab": {},
    "colab_type": "code",
    "id": "JjbfnUZGgc3C"
   },
   "outputs": [],
   "source": [
    "# read training data - It is the aircraft engine run-to-failure data.\n",
    "train_df = pd.read_csv('../../dataset/PM_train.txt', sep=\" \", header=None)\n",
    "train_df.drop(train_df.columns[[26, 27]], axis=1, inplace=True)\n",
    "train_df.columns = ['id', 'cycle', 'setting1', 'setting2', 'setting3', 's1', 's2', 's3',\n",
    "                     's4', 's5', 's6', 's7', 's8', 's9', 's10', 's11', 's12', 's13', 's14',\n",
    "                     's15', 's16', 's17', 's18', 's19', 's20', 's21']\n",
    "\n",
    "train_df = train_df.sort_values(['id','cycle'])\n",
    "\n",
    "# read test data - It is the aircraft engine operating data without failure events recorded.\n",
    "test_df = pd.read_csv('../../dataset/PM_test.txt', sep=\" \", header=None)\n",
    "test_df.drop(test_df.columns[[26, 27]], axis=1, inplace=True)\n",
    "test_df.columns = ['id', 'cycle', 'setting1', 'setting2', 'setting3', 's1', 's2', 's3',\n",
    "                     's4', 's5', 's6', 's7', 's8', 's9', 's10', 's11', 's12', 's13', 's14',\n",
    "                     's15', 's16', 's17', 's18', 's19', 's20', 's21']\n",
    "\n",
    "# read ground truth data - It contains the information of true remaining cycles for each engine in the testing data.\n",
    "truth_df = pd.read_csv('../../dataset/PM_truth.txt', sep=\" \", header=None)\n",
    "truth_df.drop(truth_df.columns[[1]], axis=1, inplace=True)\n"
   ]
  },
  {
   "cell_type": "markdown",
   "metadata": {},
   "source": [
    "## Data Analysis"
   ]
  },
  {
   "cell_type": "code",
   "execution_count": 16,
   "metadata": {},
   "outputs": [
    {
     "data": {
      "image/png": "[encoded data removed]",
      "text/plain": [
       "<Figure size 432x288 with 1 Axes>"
      ]
     },
     "metadata": {
      "needs_background": "light"
     },
     "output_type": "display_data"
    }
   ],
   "source": [
    "## import matplotlib\n",
    "\n",
    "cols_normalize = train_df.columns.difference(['id','cycle','RUL','label1','label2'])\n",
    "i = 23\n",
    "his = train_df[cols_normalize[i]].hist()\n",
    "fig = his.get_figure()\n",
    "fig.savefig('{}.png'.format(cols_normalize[i]))"
   ]
  },
  {
   "cell_type": "code",
   "execution_count": 17,
   "metadata": {},
   "outputs": [
    {
     "name": "stderr",
     "output_type": "stream",
     "text": [
      "/home/hperez/anaconda3/envs/gpu/lib/python3.7/site-packages/scipy/stats/stats.py:2419: RuntimeWarning: invalid value encountered in true_divide\n",
      "  return (a - mns) / sstd\n"
     ]
    },
    {
     "data": {
      "text/html": [
       "<div>\n",
       "<style scoped>\n",
       "    .dataframe tbody tr th:only-of-type {\n",
       "        vertical-align: middle;\n",
       "    }\n",
       "\n",
       "    .dataframe tbody tr th {\n",
       "        vertical-align: top;\n",
       "    }\n",
       "\n",
       "    .dataframe thead th {\n",
       "        text-align: right;\n",
       "    }\n",
       "</style>\n",
       "<table border=\"1\" class=\"dataframe\">\n",
       "  <thead>\n",
       "    <tr style=\"text-align: right;\">\n",
       "      <th></th>\n",
       "      <th>s1</th>\n",
       "      <th>s10</th>\n",
       "      <th>s11</th>\n",
       "      <th>s12</th>\n",
       "      <th>s13</th>\n",
       "      <th>s14</th>\n",
       "      <th>s15</th>\n",
       "      <th>s16</th>\n",
       "      <th>s17</th>\n",
       "      <th>s18</th>\n",
       "      <th>...</th>\n",
       "      <th>s3</th>\n",
       "      <th>s4</th>\n",
       "      <th>s5</th>\n",
       "      <th>s6</th>\n",
       "      <th>s7</th>\n",
       "      <th>s8</th>\n",
       "      <th>s9</th>\n",
       "      <th>setting1</th>\n",
       "      <th>setting2</th>\n",
       "      <th>setting3</th>\n",
       "    </tr>\n",
       "  </thead>\n",
       "  <tbody>\n",
       "    <tr>\n",
       "      <th>0</th>\n",
       "      <td>NaN</td>\n",
       "      <td>NaN</td>\n",
       "      <td>-0.266467</td>\n",
       "      <td>0.334262</td>\n",
       "      <td>-1.058890</td>\n",
       "      <td>-0.269071</td>\n",
       "      <td>-0.603816</td>\n",
       "      <td>-1.0</td>\n",
       "      <td>-0.781710</td>\n",
       "      <td>NaN</td>\n",
       "      <td>...</td>\n",
       "      <td>-0.134255</td>\n",
       "      <td>-0.925936</td>\n",
       "      <td>-1.0</td>\n",
       "      <td>0.141683</td>\n",
       "      <td>1.121141</td>\n",
       "      <td>-0.516338</td>\n",
       "      <td>-0.862813</td>\n",
       "      <td>-0.315980</td>\n",
       "      <td>-1.372953</td>\n",
       "      <td>NaN</td>\n",
       "    </tr>\n",
       "    <tr>\n",
       "      <th>1</th>\n",
       "      <td>NaN</td>\n",
       "      <td>NaN</td>\n",
       "      <td>-0.191583</td>\n",
       "      <td>1.174899</td>\n",
       "      <td>-0.363646</td>\n",
       "      <td>-0.642845</td>\n",
       "      <td>-0.275852</td>\n",
       "      <td>-1.0</td>\n",
       "      <td>-0.781710</td>\n",
       "      <td>NaN</td>\n",
       "      <td>...</td>\n",
       "      <td>0.211528</td>\n",
       "      <td>-0.643726</td>\n",
       "      <td>-1.0</td>\n",
       "      <td>0.141683</td>\n",
       "      <td>0.431930</td>\n",
       "      <td>-0.798093</td>\n",
       "      <td>-0.958818</td>\n",
       "      <td>0.872722</td>\n",
       "      <td>-1.031720</td>\n",
       "      <td>NaN</td>\n",
       "    </tr>\n",
       "    <tr>\n",
       "      <th>2</th>\n",
       "      <td>NaN</td>\n",
       "      <td>NaN</td>\n",
       "      <td>-1.015303</td>\n",
       "      <td>1.364721</td>\n",
       "      <td>-0.919841</td>\n",
       "      <td>-0.551629</td>\n",
       "      <td>-0.649144</td>\n",
       "      <td>-1.0</td>\n",
       "      <td>-2.073094</td>\n",
       "      <td>NaN</td>\n",
       "      <td>...</td>\n",
       "      <td>-0.413166</td>\n",
       "      <td>-0.525953</td>\n",
       "      <td>-1.0</td>\n",
       "      <td>0.141683</td>\n",
       "      <td>1.008155</td>\n",
       "      <td>-0.234584</td>\n",
       "      <td>-0.557139</td>\n",
       "      <td>-1.961874</td>\n",
       "      <td>1.015677</td>\n",
       "      <td>NaN</td>\n",
       "    </tr>\n",
       "    <tr>\n",
       "      <th>3</th>\n",
       "      <td>NaN</td>\n",
       "      <td>NaN</td>\n",
       "      <td>-1.539489</td>\n",
       "      <td>1.961302</td>\n",
       "      <td>-0.224597</td>\n",
       "      <td>-0.520176</td>\n",
       "      <td>-1.971665</td>\n",
       "      <td>-1.0</td>\n",
       "      <td>-0.781710</td>\n",
       "      <td>NaN</td>\n",
       "      <td>...</td>\n",
       "      <td>-1.261314</td>\n",
       "      <td>-0.784831</td>\n",
       "      <td>-1.0</td>\n",
       "      <td>0.141683</td>\n",
       "      <td>1.222827</td>\n",
       "      <td>0.188048</td>\n",
       "      <td>-0.713826</td>\n",
       "      <td>0.324090</td>\n",
       "      <td>-0.008022</td>\n",
       "      <td>NaN</td>\n",
       "    </tr>\n",
       "    <tr>\n",
       "      <th>4</th>\n",
       "      <td>NaN</td>\n",
       "      <td>NaN</td>\n",
       "      <td>-0.977861</td>\n",
       "      <td>1.052871</td>\n",
       "      <td>-0.780793</td>\n",
       "      <td>-0.521748</td>\n",
       "      <td>-0.339845</td>\n",
       "      <td>-1.0</td>\n",
       "      <td>-0.136018</td>\n",
       "      <td>NaN</td>\n",
       "      <td>...</td>\n",
       "      <td>-1.251528</td>\n",
       "      <td>-0.301518</td>\n",
       "      <td>-1.0</td>\n",
       "      <td>0.141683</td>\n",
       "      <td>0.714393</td>\n",
       "      <td>-0.516338</td>\n",
       "      <td>-0.457059</td>\n",
       "      <td>-0.864611</td>\n",
       "      <td>-0.690488</td>\n",
       "      <td>NaN</td>\n",
       "    </tr>\n",
       "    <tr>\n",
       "      <th>...</th>\n",
       "      <td>...</td>\n",
       "      <td>...</td>\n",
       "      <td>...</td>\n",
       "      <td>...</td>\n",
       "      <td>...</td>\n",
       "      <td>...</td>\n",
       "      <td>...</td>\n",
       "      <td>...</td>\n",
       "      <td>...</td>\n",
       "      <td>...</td>\n",
       "      <td>...</td>\n",
       "      <td>...</td>\n",
       "      <td>...</td>\n",
       "      <td>...</td>\n",
       "      <td>...</td>\n",
       "      <td>...</td>\n",
       "      <td>...</td>\n",
       "      <td>...</td>\n",
       "      <td>...</td>\n",
       "      <td>...</td>\n",
       "      <td>...</td>\n",
       "    </tr>\n",
       "    <tr>\n",
       "      <th>20626</th>\n",
       "      <td>NaN</td>\n",
       "      <td>NaN</td>\n",
       "      <td>1.980044</td>\n",
       "      <td>-2.607969</td>\n",
       "      <td>2.278282</td>\n",
       "      <td>-0.322542</td>\n",
       "      <td>1.425294</td>\n",
       "      <td>-1.0</td>\n",
       "      <td>2.446751</td>\n",
       "      <td>NaN</td>\n",
       "      <td>...</td>\n",
       "      <td>1.216258</td>\n",
       "      <td>2.188375</td>\n",
       "      <td>-1.0</td>\n",
       "      <td>0.141683</td>\n",
       "      <td>-2.189329</td>\n",
       "      <td>1.315066</td>\n",
       "      <td>0.012547</td>\n",
       "      <td>-0.178822</td>\n",
       "      <td>-1.031720</td>\n",
       "      <td>NaN</td>\n",
       "    </tr>\n",
       "    <tr>\n",
       "      <th>20627</th>\n",
       "      <td>NaN</td>\n",
       "      <td>NaN</td>\n",
       "      <td>1.867718</td>\n",
       "      <td>-2.350355</td>\n",
       "      <td>1.722087</td>\n",
       "      <td>-0.380207</td>\n",
       "      <td>1.913240</td>\n",
       "      <td>-1.0</td>\n",
       "      <td>1.155367</td>\n",
       "      <td>NaN</td>\n",
       "      <td>...</td>\n",
       "      <td>2.279706</td>\n",
       "      <td>2.738351</td>\n",
       "      <td>-1.0</td>\n",
       "      <td>0.141683</td>\n",
       "      <td>-2.833345</td>\n",
       "      <td>1.878576</td>\n",
       "      <td>-0.006020</td>\n",
       "      <td>-0.727453</td>\n",
       "      <td>-1.714186</td>\n",
       "      <td>NaN</td>\n",
       "    </tr>\n",
       "    <tr>\n",
       "      <th>20628</th>\n",
       "      <td>NaN</td>\n",
       "      <td>NaN</td>\n",
       "      <td>2.054927</td>\n",
       "      <td>-1.902919</td>\n",
       "      <td>2.000184</td>\n",
       "      <td>-0.141684</td>\n",
       "      <td>3.265092</td>\n",
       "      <td>-1.0</td>\n",
       "      <td>3.092444</td>\n",
       "      <td>NaN</td>\n",
       "      <td>...</td>\n",
       "      <td>1.946971</td>\n",
       "      <td>2.138377</td>\n",
       "      <td>-1.0</td>\n",
       "      <td>0.141683</td>\n",
       "      <td>-2.742957</td>\n",
       "      <td>2.019453</td>\n",
       "      <td>0.029755</td>\n",
       "      <td>0.186933</td>\n",
       "      <td>-0.008022</td>\n",
       "      <td>NaN</td>\n",
       "    </tr>\n",
       "    <tr>\n",
       "      <th>20629</th>\n",
       "      <td>NaN</td>\n",
       "      <td>NaN</td>\n",
       "      <td>3.178182</td>\n",
       "      <td>-2.363913</td>\n",
       "      <td>1.861136</td>\n",
       "      <td>-0.233948</td>\n",
       "      <td>2.579834</td>\n",
       "      <td>-1.0</td>\n",
       "      <td>1.155367</td>\n",
       "      <td>NaN</td>\n",
       "      <td>...</td>\n",
       "      <td>2.403666</td>\n",
       "      <td>1.955051</td>\n",
       "      <td>-1.0</td>\n",
       "      <td>0.141683</td>\n",
       "      <td>-3.036719</td>\n",
       "      <td>2.160330</td>\n",
       "      <td>0.383884</td>\n",
       "      <td>-0.498857</td>\n",
       "      <td>1.015677</td>\n",
       "      <td>NaN</td>\n",
       "    </tr>\n",
       "    <tr>\n",
       "      <th>20630</th>\n",
       "      <td>NaN</td>\n",
       "      <td>NaN</td>\n",
       "      <td>2.466787</td>\n",
       "      <td>-2.865584</td>\n",
       "      <td>2.278282</td>\n",
       "      <td>-0.336696</td>\n",
       "      <td>1.638604</td>\n",
       "      <td>-1.0</td>\n",
       "      <td>1.801059</td>\n",
       "      <td>NaN</td>\n",
       "      <td>...</td>\n",
       "      <td>1.607712</td>\n",
       "      <td>2.578358</td>\n",
       "      <td>-1.0</td>\n",
       "      <td>0.141683</td>\n",
       "      <td>-2.912435</td>\n",
       "      <td>2.301208</td>\n",
       "      <td>-0.170405</td>\n",
       "      <td>-1.458962</td>\n",
       "      <td>-1.714186</td>\n",
       "      <td>NaN</td>\n",
       "    </tr>\n",
       "  </tbody>\n",
       "</table>\n",
       "<p>20631 rows × 24 columns</p>\n",
       "</div>"
      ],
      "text/plain": [
       "       s1  s10       s11       s12       s13       s14       s15  s16  \\\n",
       "0     NaN  NaN -0.266467  0.334262 -1.058890 -0.269071 -0.603816 -1.0   \n",
       "1     NaN  NaN -0.191583  1.174899 -0.363646 -0.642845 -0.275852 -1.0   \n",
       "2     NaN  NaN -1.015303  1.364721 -0.919841 -0.551629 -0.649144 -1.0   \n",
       "3     NaN  NaN -1.539489  1.961302 -0.224597 -0.520176 -1.971665 -1.0   \n",
       "4     NaN  NaN -0.977861  1.052871 -0.780793 -0.521748 -0.339845 -1.0   \n",
       "...    ..  ...       ...       ...       ...       ...       ...  ...   \n",
       "20626 NaN  NaN  1.980044 -2.607969  2.278282 -0.322542  1.425294 -1.0   \n",
       "20627 NaN  NaN  1.867718 -2.350355  1.722087 -0.380207  1.913240 -1.0   \n",
       "20628 NaN  NaN  2.054927 -1.902919  2.000184 -0.141684  3.265092 -1.0   \n",
       "20629 NaN  NaN  3.178182 -2.363913  1.861136 -0.233948  2.579834 -1.0   \n",
       "20630 NaN  NaN  2.466787 -2.865584  2.278282 -0.336696  1.638604 -1.0   \n",
       "\n",
       "            s17  s18  ...        s3        s4   s5        s6        s7  \\\n",
       "0     -0.781710  NaN  ... -0.134255 -0.925936 -1.0  0.141683  1.121141   \n",
       "1     -0.781710  NaN  ...  0.211528 -0.643726 -1.0  0.141683  0.431930   \n",
       "2     -2.073094  NaN  ... -0.413166 -0.525953 -1.0  0.141683  1.008155   \n",
       "3     -0.781710  NaN  ... -1.261314 -0.784831 -1.0  0.141683  1.222827   \n",
       "4     -0.136018  NaN  ... -1.251528 -0.301518 -1.0  0.141683  0.714393   \n",
       "...         ...  ...  ...       ...       ...  ...       ...       ...   \n",
       "20626  2.446751  NaN  ...  1.216258  2.188375 -1.0  0.141683 -2.189329   \n",
       "20627  1.155367  NaN  ...  2.279706  2.738351 -1.0  0.141683 -2.833345   \n",
       "20628  3.092444  NaN  ...  1.946971  2.138377 -1.0  0.141683 -2.742957   \n",
       "20629  1.155367  NaN  ...  2.403666  1.955051 -1.0  0.141683 -3.036719   \n",
       "20630  1.801059  NaN  ...  1.607712  2.578358 -1.0  0.141683 -2.912435   \n",
       "\n",
       "             s8        s9  setting1  setting2  setting3  \n",
       "0     -0.516338 -0.862813 -0.315980 -1.372953       NaN  \n",
       "1     -0.798093 -0.958818  0.872722 -1.031720       NaN  \n",
       "2     -0.234584 -0.557139 -1.961874  1.015677       NaN  \n",
       "3      0.188048 -0.713826  0.324090 -0.008022       NaN  \n",
       "4     -0.516338 -0.457059 -0.864611 -0.690488       NaN  \n",
       "...         ...       ...       ...       ...       ...  \n",
       "20626  1.315066  0.012547 -0.178822 -1.031720       NaN  \n",
       "20627  1.878576 -0.006020 -0.727453 -1.714186       NaN  \n",
       "20628  2.019453  0.029755  0.186933 -0.008022       NaN  \n",
       "20629  2.160330  0.383884 -0.498857  1.015677       NaN  \n",
       "20630  2.301208 -0.170405 -1.458962 -1.714186       NaN  \n",
       "\n",
       "[20631 rows x 24 columns]"
      ]
     },
     "execution_count": 17,
     "metadata": {},
     "output_type": "execute_result"
    }
   ],
   "source": [
    "from scipy.stats import zscore\n",
    "train_df[cols_normalize].apply(zscore)"
   ]
  },
  {
   "cell_type": "markdown",
   "metadata": {
    "colab_type": "text",
    "id": "QEpD7amS-lpu"
   },
   "source": [
    "## Data Preprocessing"
   ]
  },
  {
   "cell_type": "code",
   "execution_count": 18,
   "metadata": {
    "colab": {},
    "colab_type": "code",
    "id": "ulY14O06knOI"
   },
   "outputs": [],
   "source": [
    "#######\n",
    "# TRAIN\n",
    "#######\n",
    "# Data Labeling - generate column RUL(Remaining Usefull Life or Time to Failure)\n",
    "rul = pd.DataFrame(train_df.groupby('id')['cycle'].max()).reset_index()\n",
    "rul.columns = ['id', 'max']\n",
    "train_df = train_df.merge(rul, on=['id'], how='left')\n",
    "train_df['RUL'] = train_df['max'] - train_df['cycle']\n",
    "train_df.drop('max', axis=1, inplace=True)\n",
    "\n",
    "# generate label columns for training data\n",
    "# we will only make use of \"label1\" for binary classification, \n",
    "# while trying to answer the question: is a specific engine going to fail within w1 cycles?\n",
    "w1 = 30\n",
    "train_df['label1'] = np.where(train_df['RUL'] <= w1, 1, 0 )\n",
    "\n",
    "# MinMax normalization (from 0 to 1)\n",
    "train_df['cycle_norm'] = train_df['cycle']\n",
    "cols_normalize = train_df.columns.difference(['id','cycle','RUL','label1','label2'])\n",
    "\n",
    "min_max_scaler = preprocessing.MinMaxScaler()\n",
    "norm_train_df = pd.DataFrame(min_max_scaler.fit_transform(train_df[cols_normalize]), \n",
    "                             columns=cols_normalize, \n",
    "                             index=train_df.index)\n",
    "\n",
    "\n",
    "join_df = train_df[train_df.columns.difference(cols_normalize)].join(norm_train_df)\n",
    "train_df = join_df.reindex(columns = train_df.columns)\n",
    "\n",
    "######\n",
    "# TEST\n",
    "######\n",
    "# MinMax normalization (from 0 to 1)\n",
    "test_df['cycle_norm'] = test_df['cycle']\n",
    "norm_test_df = pd.DataFrame(min_max_scaler.transform(test_df[cols_normalize]), \n",
    "                            columns=cols_normalize, \n",
    "                            index=test_df.index)\n",
    "test_join_df = test_df[test_df.columns.difference(cols_normalize)].join(norm_test_df)\n",
    "test_df = test_join_df.reindex(columns = test_df.columns)\n",
    "test_df = test_df.reset_index(drop=True)\n",
    "\n",
    "\n",
    "# We use the ground truth dataset to generate labels for the test data.\n",
    "# generate column max for test data\n",
    "rul = pd.DataFrame(test_df.groupby('id')['cycle'].max()).reset_index()\n",
    "rul.columns = ['id', 'max']\n",
    "truth_df.columns = ['more']\n",
    "truth_df['id'] = truth_df.index + 1\n",
    "truth_df['max'] = rul['max'] + truth_df['more']\n",
    "truth_df.drop('more', axis=1, inplace=True)\n",
    "\n",
    "# generate RUL for test data\n",
    "test_df = test_df.merge(truth_df, on=['id'], how='left')\n",
    "test_df['RUL'] = test_df['max'] - test_df['cycle']\n",
    "test_df.drop('max', axis=1, inplace=True)\n",
    "\n",
    "# generate label columns w0 and w1 for test data\n",
    "test_df['label1'] = np.where(test_df['RUL'] <= w1, 1, 0 )"
   ]
  },
  {
   "cell_type": "code",
   "execution_count": 23,
   "metadata": {},
   "outputs": [
    {
     "name": "stdout",
     "output_type": "stream",
     "text": [
      "(15631, 50, 25)\n"
     ]
    },
    {
     "data": {
      "text/plain": [
       "(15631, 1)"
      ]
     },
     "execution_count": 23,
     "metadata": {},
     "output_type": "execute_result"
    }
   ],
   "source": [
    "# pick a large window size of 50 cycles\n",
    "sequence_length = 50\n",
    "\n",
    "# function to reshape features into (samples, time steps, features) \n",
    "def gen_sequence(id_df, seq_length, seq_cols):\n",
    "    \"\"\" Only sequences that meet the window-length are considered, no padding is used. This means for testing\n",
    "    we need to drop those which are below the window-length. An alternative would be to pad sequences so that\n",
    "    we can use shorter ones \"\"\"\n",
    "    # for one id I put all the rows in a single matrix\n",
    "    data_matrix = id_df[seq_cols].values\n",
    "    num_elements = data_matrix.shape[0]\n",
    "    # Iterate over two lists in parallel.\n",
    "    # For example id1 have 192 rows and sequence_length is equal to 50\n",
    "    # so zip iterate over two following list of numbers (0,112),(50,192)\n",
    "    # 0 50 -> from row 0 to row 50\n",
    "    # 1 51 -> from row 1 to row 51\n",
    "    # 2 52 -> from row 2 to row 52\n",
    "    # ...\n",
    "    # 111 191 -> from row 111 to 191\n",
    "    for start, stop in zip(range(0, num_elements-seq_length), range(seq_length, num_elements)):\n",
    "        yield data_matrix[start:stop, :]\n",
    "        \n",
    "# pick the feature columns \n",
    "sensor_cols = ['s' + str(i) for i in range(1,22)]\n",
    "sequence_cols = ['setting1', 'setting2', 'setting3', 'cycle_norm']\n",
    "sequence_cols.extend(sensor_cols)\n",
    "\n",
    "# generator for the sequences\n",
    "seq_gen = (list(gen_sequence(train_df[train_df['id']==id], sequence_length, sequence_cols)) \n",
    "           for id in train_df['id'].unique())\n",
    "\n",
    "# generate sequences and convert to numpy array\n",
    "seq_array = np.concatenate(list(seq_gen)).astype(np.float32)\n",
    "seq_array.shape\n",
    "print(seq_array.shape)\n",
    "\n",
    "# function to generate labels\n",
    "def gen_labels(id_df, seq_length, label):\n",
    "    # For one id I put all the labels in a single matrix.\n",
    "    # For example:\n",
    "    # [[1]\n",
    "    # [4]\n",
    "    # [1]\n",
    "    # [5]\n",
    "    # [9]\n",
    "    # ...\n",
    "    # [200]] \n",
    "    data_matrix = id_df[label].values\n",
    "    num_elements = data_matrix.shape[0]\n",
    "    # I have to remove the first seq_length labels\n",
    "    # because for one id the first sequence of seq_length size have as target\n",
    "    # the last label (the previus ones are discarded).\n",
    "    # All the next id's sequences will have associated step by step one label as target. \n",
    "    return data_matrix[seq_length:num_elements, :]\n",
    "\n",
    "# generate labels\n",
    "label_gen = [gen_labels(train_df[train_df['id']==id], sequence_length, ['label1']) \n",
    "             for id in train_df['id'].unique()]\n",
    "label_array = np.concatenate(label_gen).astype(np.float32)\n",
    "label_array.shape"
   ]
  },
  {
   "cell_type": "markdown",
   "metadata": {
    "colab_type": "text",
    "id": "57FSFDb4-r3d"
   },
   "source": [
    "## LSTM"
   ]
  },
  {
   "cell_type": "code",
   "execution_count": 7,
   "metadata": {
    "colab": {
     "base_uri": "https://localhost:8080/",
     "height": 833
    },
    "colab_type": "code",
    "id": "zSInZu-EkFtf",
    "outputId": "eeaa639d-5fe6-41e1-a114-5de359a792c5"
   },
   "outputs": [
    {
     "name": "stdout",
     "output_type": "stream",
     "text": [
      "Model: \"model_1\"\n",
      "_________________________________________________________________\n",
      "Layer (type)                 Output Shape              Param #   \n",
      "=================================================================\n",
      "input_1 (InputLayer)         (None, 50, 25)            0         \n",
      "_________________________________________________________________\n",
      "lstm_1 (LSTM)                (None, 50, 100)           50400     \n",
      "_________________________________________________________________\n",
      "dropout_1 (Dropout)          (None, 50, 100)           0         \n",
      "_________________________________________________________________\n",
      "lstm_2 (LSTM)                (None, 50)                30200     \n",
      "_________________________________________________________________\n",
      "dense_1 (Dense)              (None, 1)                 51        \n",
      "=================================================================\n",
      "Total params: 80,651\n",
      "Trainable params: 80,651\n",
      "Non-trainable params: 0\n",
      "_________________________________________________________________\n",
      "None\n"
     ]
    },
    {
     "name": "stderr",
     "output_type": "stream",
     "text": [
      "/home/hperez/anaconda3/envs/gpu/lib/python3.7/site-packages/ipykernel_launcher.py:100: UserWarning: Update your `Model` call to the Keras 2 API: `Model(inputs=[<tf.Tenso..., outputs=[<tf.Tenso...)`\n",
      "/home/hperez/anaconda3/envs/gpu/lib/python3.7/site-packages/ipykernel_launcher.py:101: UserWarning: Update your `Model` call to the Keras 2 API: `Model(inputs=[<tf.Tenso..., outputs=[<tf.Tenso...)`\n"
     ]
    }
   ],
   "source": [
    "# Next, we build a deep network. \n",
    "# The first layer is an LSTM layer with 100 units followed by another LSTM layer with 50 units. \n",
    "# Dropout is also applied after each LSTM layer to control overfitting. \n",
    "# Final layer is a Dense output layer with single unit and sigmoid activation since this is a binary classification problem.\n",
    "# build the network\n",
    "nb_features = seq_array.shape[2]\n",
    "nb_out = label_array.shape[1]\n",
    "\n",
    "###############################\n",
    "## Original sequential model ##\n",
    "###############################\n",
    "\n",
    "# model = Sequential()\n",
    "\n",
    "# model.add(LSTM(\n",
    "#          input_shape=(sequence_length, nb_features),\n",
    "#          units=100,\n",
    "#          return_sequences=True))\n",
    "# model.add(Dropout(0.2))\n",
    "\n",
    "# model.add(LSTM(\n",
    "#           units=50,\n",
    "#           return_sequences=False))\n",
    "# model.add(Dropout(0.2))\n",
    "\n",
    "# model.add(Dense(units=nb_out, activation='sigmoid'))\n",
    "# model.compile(loss='binary_crossentropy', optimizer='adam', metrics=['accuracy'])\n",
    "\n",
    "######################\n",
    "## Functional model ##\n",
    "######################\n",
    "x = Input(shape=(sequence_length, nb_features))\n",
    "\n",
    "lstm1 = LSTM(units=100, return_sequences=True)(x)\n",
    "dropout1 = Dropout(0.2)(lstm1)\n",
    "lstm2 = LSTM(units=50, return_sequences=False)(dropout1)\n",
    "dropout2 = Dropout(0.2)(lstm2)\n",
    "dense = Dense(units=nb_out, activation='sigmoid')(lstm2)\n",
    "\n",
    "model = Model(input=[x], output=[dense])\n",
    "model2 = Model(input=[x], output=[lstm2])\n",
    "model.compile(loss='binary_crossentropy', optimizer='adam', metrics=['accuracy'])\n",
    "\n",
    "print(model.summary())"
   ]
  },
  {
   "cell_type": "code",
   "execution_count": 8,
   "metadata": {},
   "outputs": [
    {
     "name": "stdout",
     "output_type": "stream",
     "text": [
      "Train on 14849 samples, validate on 782 samples\n",
      "Epoch 1/100\n",
      " - 4s - loss: 0.2613 - accuracy: 0.8846 - val_loss: 0.0936 - val_accuracy: 0.9591\n",
      "Epoch 2/100\n",
      " - 4s - loss: 0.0955 - accuracy: 0.9629 - val_loss: 0.0766 - val_accuracy: 0.9604\n",
      "Epoch 3/100\n",
      " - 3s - loss: 0.0869 - accuracy: 0.9644 - val_loss: 0.1025 - val_accuracy: 0.9463\n",
      "Epoch 4/100\n",
      " - 4s - loss: 0.0771 - accuracy: 0.9680 - val_loss: 0.0579 - val_accuracy: 0.9847\n",
      "Epoch 5/100\n",
      " - 4s - loss: 0.0712 - accuracy: 0.9696 - val_loss: 0.0458 - val_accuracy: 0.9795\n",
      "Epoch 6/100\n",
      " - 3s - loss: 0.0633 - accuracy: 0.9729 - val_loss: 0.0410 - val_accuracy: 0.9821\n",
      "Epoch 7/100\n",
      " - 3s - loss: 0.0605 - accuracy: 0.9741 - val_loss: 0.0526 - val_accuracy: 0.9757\n",
      "Epoch 8/100\n",
      " - 3s - loss: 0.0544 - accuracy: 0.9763 - val_loss: 0.0393 - val_accuracy: 0.9795\n",
      "Epoch 9/100\n",
      " - 3s - loss: 0.0548 - accuracy: 0.9758 - val_loss: 0.0353 - val_accuracy: 0.9821\n",
      "Epoch 10/100\n",
      " - 3s - loss: 0.0526 - accuracy: 0.9776 - val_loss: 0.0440 - val_accuracy: 0.9808\n",
      "Epoch 11/100\n",
      " - 3s - loss: 0.0563 - accuracy: 0.9764 - val_loss: 0.0951 - val_accuracy: 0.9629\n",
      "Epoch 12/100\n",
      " - 3s - loss: 0.0580 - accuracy: 0.9753 - val_loss: 0.0543 - val_accuracy: 0.9744\n",
      "Epoch 13/100\n",
      " - 3s - loss: 0.0554 - accuracy: 0.9770 - val_loss: 0.0428 - val_accuracy: 0.9834\n",
      "Epoch 14/100\n",
      " - 3s - loss: 0.0559 - accuracy: 0.9760 - val_loss: 0.0446 - val_accuracy: 0.9808\n",
      "Epoch 15/100\n",
      " - 3s - loss: 0.0563 - accuracy: 0.9764 - val_loss: 0.0618 - val_accuracy: 0.9719\n",
      "Epoch 16/100\n",
      " - 3s - loss: 0.0497 - accuracy: 0.9783 - val_loss: 0.0502 - val_accuracy: 0.9808\n",
      "Epoch 17/100\n",
      " - 3s - loss: 0.0470 - accuracy: 0.9799 - val_loss: 0.0441 - val_accuracy: 0.9770\n",
      "Epoch 18/100\n",
      " - 3s - loss: 0.0480 - accuracy: 0.9803 - val_loss: 0.0532 - val_accuracy: 0.9719\n",
      "Epoch 19/100\n",
      " - 3s - loss: 0.0461 - accuracy: 0.9817 - val_loss: 0.0315 - val_accuracy: 0.9859\n",
      "Epoch 20/100\n",
      " - 4s - loss: 0.0497 - accuracy: 0.9794 - val_loss: 0.0492 - val_accuracy: 0.9770\n",
      "Epoch 21/100\n",
      " - 4s - loss: 0.0477 - accuracy: 0.9802 - val_loss: 0.0417 - val_accuracy: 0.9834\n",
      "Epoch 22/100\n",
      " - 4s - loss: 0.0488 - accuracy: 0.9795 - val_loss: 0.0331 - val_accuracy: 0.9821\n",
      "Epoch 23/100\n",
      " - 4s - loss: 0.0426 - accuracy: 0.9820 - val_loss: 0.0783 - val_accuracy: 0.9719\n",
      "Epoch 24/100\n",
      " - 4s - loss: 0.0449 - accuracy: 0.9814 - val_loss: 0.0471 - val_accuracy: 0.9770\n",
      "Epoch 25/100\n",
      " - 4s - loss: 0.0409 - accuracy: 0.9826 - val_loss: 0.0417 - val_accuracy: 0.9834\n",
      "Epoch 26/100\n",
      " - 4s - loss: 0.0534 - accuracy: 0.9785 - val_loss: 0.0341 - val_accuracy: 0.9821\n",
      "Epoch 27/100\n",
      " - 4s - loss: 0.0454 - accuracy: 0.9807 - val_loss: 0.0396 - val_accuracy: 0.9834\n",
      "Epoch 28/100\n",
      " - 4s - loss: 0.0401 - accuracy: 0.9839 - val_loss: 0.0561 - val_accuracy: 0.9783\n",
      "Epoch 29/100\n",
      " - 4s - loss: 0.0428 - accuracy: 0.9825 - val_loss: 0.0512 - val_accuracy: 0.9757\n",
      "dict_keys(['val_loss', 'val_accuracy', 'loss', 'accuracy'])\n"
     ]
    }
   ],
   "source": [
    "# fit the network\n",
    "history = model.fit(seq_array, label_array, epochs=100, batch_size=200, validation_split=0.05, verbose=2,\n",
    "          callbacks = [keras.callbacks.EarlyStopping(monitor='val_loss', min_delta=0, patience=10, verbose=0, mode='min'),\n",
    "                       keras.callbacks.ModelCheckpoint(model_path,monitor='val_loss', save_best_only=True, mode='min', verbose=0)]\n",
    "          )\n",
    "\n",
    "# list all data in history\n",
    "print(history.history.keys())"
   ]
  },
  {
   "cell_type": "code",
   "execution_count": 9,
   "metadata": {},
   "outputs": [
    {
     "data": {
      "text/plain": [
       "(15631, 50)"
      ]
     },
     "execution_count": 9,
     "metadata": {},
     "output_type": "execute_result"
    }
   ],
   "source": [
    "lstm_output = model2.predict(seq_array)\n",
    "lstm_output.shape"
   ]
  },
  {
   "cell_type": "code",
   "execution_count": 10,
   "metadata": {},
   "outputs": [
    {
     "data": {
      "text/plain": [
       "array([[-2.128213  , -0.20816965],\n",
       "       [-2.1186562 , -0.19817695],\n",
       "       [-2.1095898 , -0.19269198],\n",
       "       [-2.098586  , -0.18703304],\n",
       "       [-2.0820427 , -0.17253748],\n",
       "       [-2.079947  , -0.17011379],\n",
       "       [-2.078266  , -0.17085224],\n",
       "       [-2.0579567 , -0.15312853],\n",
       "       [-2.041741  , -0.14516412],\n",
       "       [-2.0316372 , -0.13625412]], dtype=float32)"
      ]
     },
     "execution_count": 10,
     "metadata": {},
     "output_type": "execute_result"
    }
   ],
   "source": [
    "pca = PCA(n_components=2)\n",
    "pca.fit(lstm_output)\n",
    "lstm_output_pca = pca.transform(lstm_output)\n",
    "lstm_output_pca[:10]"
   ]
  },
  {
   "cell_type": "code",
   "execution_count": 11,
   "metadata": {},
   "outputs": [
    {
     "data": {
      "text/plain": [
       "[<matplotlib.lines.Line2D at 0x7f6c7c1cfc50>]"
      ]
     },
     "execution_count": 11,
     "metadata": {},
     "output_type": "execute_result"
    },
    {
     "data": {
      "image/png": "[encoded data removed]",
      "text/plain": [
       "<Figure size 432x288 with 1 Axes>"
      ]
     },
     "metadata": {
      "needs_background": "light"
     },
     "output_type": "display_data"
    }
   ],
   "source": [
    "plt.plot(lstm_output_pca[:,0], lstm_output_pca[:,1], '.', alpha=0.01)"
   ]
  },
  {
   "cell_type": "markdown",
   "metadata": {
    "colab_type": "text",
    "id": "pWyZJ2mP-1pB"
   },
   "source": [
    "## Model Evaluation on Test set"
   ]
  },
  {
   "cell_type": "code",
   "execution_count": 12,
   "metadata": {
    "colab": {
     "base_uri": "https://localhost:8080/",
     "height": 1393
    },
    "colab_type": "code",
    "id": "FpVYSzXkmk5l",
    "outputId": "50af192e-e9df-46ad-ffa3-0b7bd0e3f29c"
   },
   "outputs": [
    {
     "data": {
      "image/png": "[encoded data removed]",
      "text/plain": [
       "<Figure size 720x720 with 1 Axes>"
      ]
     },
     "metadata": {
      "needs_background": "light"
     },
     "output_type": "display_data"
    },
    {
     "data": {
      "image/png": "[encoded data removed]",
      "text/plain": [
       "<Figure size 720x720 with 1 Axes>"
      ]
     },
     "metadata": {
      "needs_background": "light"
     },
     "output_type": "display_data"
    },
    {
     "name": "stdout",
     "output_type": "stream",
     "text": [
      "15631/15631 [==============================] - 1s 57us/step\n",
      "Accurracy: 0.9754334092140198\n"
     ]
    },
    {
     "ename": "AttributeError",
     "evalue": "'Model' object has no attribute 'predict_classes'",
     "output_type": "error",
     "traceback": [
      "\u001b[0;31m---------------------------------------------------------------------------\u001b[0m",
      "\u001b[0;31mAttributeError\u001b[0m                            Traceback (most recent call last)",
      "\u001b[0;32m<ipython-input-12-cc0639610a81>\u001b[0m in \u001b[0;36m<module>\u001b[0;34m\u001b[0m\n\u001b[1;32m     26\u001b[0m \u001b[0;34m\u001b[0m\u001b[0m\n\u001b[1;32m     27\u001b[0m \u001b[0;31m# make predictions and compute confusion matrix\u001b[0m\u001b[0;34m\u001b[0m\u001b[0;34m\u001b[0m\u001b[0;34m\u001b[0m\u001b[0m\n\u001b[0;32m---> 28\u001b[0;31m \u001b[0my_pred\u001b[0m \u001b[0;34m=\u001b[0m \u001b[0mmodel\u001b[0m\u001b[0;34m.\u001b[0m\u001b[0mpredict_classes\u001b[0m\u001b[0;34m(\u001b[0m\u001b[0mseq_array\u001b[0m\u001b[0;34m,\u001b[0m\u001b[0mverbose\u001b[0m\u001b[0;34m=\u001b[0m\u001b[0;36m1\u001b[0m\u001b[0;34m,\u001b[0m \u001b[0mbatch_size\u001b[0m\u001b[0;34m=\u001b[0m\u001b[0;36m200\u001b[0m\u001b[0;34m)\u001b[0m\u001b[0;34m\u001b[0m\u001b[0;34m\u001b[0m\u001b[0m\n\u001b[0m\u001b[1;32m     29\u001b[0m \u001b[0my_true\u001b[0m \u001b[0;34m=\u001b[0m \u001b[0mlabel_array\u001b[0m\u001b[0;34m\u001b[0m\u001b[0;34m\u001b[0m\u001b[0m\n\u001b[1;32m     30\u001b[0m \u001b[0;34m\u001b[0m\u001b[0m\n",
      "\u001b[0;31mAttributeError\u001b[0m: 'Model' object has no attribute 'predict_classes'"
     ]
    }
   ],
   "source": [
    "# summarize history for Accuracy\n",
    "fig_acc = plt.figure(figsize=(10, 10))\n",
    "plt.plot(history.history['accuracy'])\n",
    "plt.plot(history.history['val_accuracy'])\n",
    "plt.title('model accuracy')\n",
    "plt.ylabel('accuracy')\n",
    "plt.xlabel('epoch')\n",
    "plt.legend(['train', 'test'], loc='upper left')\n",
    "plt.show()\n",
    "fig_acc.savefig(\"model_accuracy.png\")\n",
    "\n",
    "# summarize history for Loss\n",
    "fig_acc = plt.figure(figsize=(10, 10))\n",
    "plt.plot(history.history['loss'])\n",
    "plt.plot(history.history['val_loss'])\n",
    "plt.title('model loss')\n",
    "plt.ylabel('loss')\n",
    "plt.xlabel('epoch')\n",
    "plt.legend(['train', 'test'], loc='upper left')\n",
    "plt.show()\n",
    "fig_acc.savefig(\"model_loss.png\")\n",
    "\n",
    "# training metrics\n",
    "scores = model.evaluate(seq_array, label_array, verbose=1, batch_size=200)\n",
    "print('Accurracy: {}'.format(scores[1]))\n",
    "\n",
    "# make predictions and compute confusion matrix\n",
    "y_pred = model.predict_classes(seq_array,verbose=1, batch_size=200)\n",
    "y_true = label_array\n",
    "\n",
    "test_set = pd.DataFrame(y_pred)\n",
    "test_set.to_csv('binary_submit_train.csv', index = None)\n",
    "\n",
    "print('Confusion matrix\\n- x-axis is true labels.\\n- y-axis is predicted labels')\n",
    "cm = confusion_matrix(y_true, y_pred)\n",
    "print(cm)\n",
    "\n",
    "# compute precision and recall\n",
    "precision = precision_score(y_true, y_pred)\n",
    "recall = recall_score(y_true, y_pred)\n",
    "print( 'precision = ', precision, '\\n', 'recall = ', recall)"
   ]
  },
  {
   "cell_type": "markdown",
   "metadata": {
    "colab_type": "text",
    "id": "oxvEuR4S-6VI"
   },
   "source": [
    "## Model Evaluation on Validation set"
   ]
  },
  {
   "cell_type": "code",
   "execution_count": null,
   "metadata": {
    "colab": {
     "base_uri": "https://localhost:8080/",
     "height": 502
    },
    "colab_type": "code",
    "id": "6yT96j4rkL0K",
    "outputId": "f3b3f649-6e83-4795-cafd-1ade4ef4afce"
   },
   "outputs": [],
   "source": [
    "# We pick the last sequence for each id in the test data\n",
    "\n",
    "seq_array_test_last = [test_df[test_df['id']==id][sequence_cols].values[-sequence_length:] \n",
    "                       for id in test_df['id'].unique() if len(test_df[test_df['id']==id]) >= sequence_length]\n",
    "\n",
    "seq_array_test_last = np.asarray(seq_array_test_last).astype(np.float32)\n",
    "#print(\"seq_array_test_last\")\n",
    "#print(seq_array_test_last)\n",
    "#print(seq_array_test_last.shape)\n",
    "\n",
    "# Similarly, we pick the labels\n",
    "\n",
    "#print(\"y_mask\")\n",
    "# serve per prendere solo le label delle sequenze che sono almeno lunghe 50\n",
    "y_mask = [len(test_df[test_df['id']==id]) >= sequence_length for id in test_df['id'].unique()]\n",
    "#print(\"y_mask\")\n",
    "#print(y_mask)\n",
    "label_array_test_last = test_df.groupby('id')['label1'].nth(-1)[y_mask].values\n",
    "label_array_test_last = label_array_test_last.reshape(label_array_test_last.shape[0],1).astype(np.float32)\n",
    "#print(label_array_test_last.shape)\n",
    "#print(\"label_array_test_last\")\n",
    "#print(label_array_test_last)\n",
    "\n",
    "# if best iteration's model was saved then load and use it\n",
    "if os.path.isfile(model_path):\n",
    "    estimator = load_model(model_path)\n",
    "\n",
    "# test metrics\n",
    "scores_test = estimator.evaluate(seq_array_test_last, label_array_test_last, verbose=2)\n",
    "print('Accurracy: {}'.format(scores_test[1]))\n",
    "\n",
    "# make predictions and compute confusion matrix\n",
    "y_pred_test = estimator.predict_classes(seq_array_test_last)\n",
    "y_true_test = label_array_test_last\n",
    "\n",
    "test_set = pd.DataFrame(y_pred_test)\n",
    "test_set.to_csv('binary_submit_test.csv', index = None)\n",
    "\n",
    "print('Confusion matrix\\n- x-axis is true labels.\\n- y-axis is predicted labels')\n",
    "cm = confusion_matrix(y_true_test, y_pred_test)\n",
    "print(cm)\n",
    "\n",
    "# compute precision and recall\n",
    "precision_test = precision_score(y_true_test, y_pred_test)\n",
    "recall_test = recall_score(y_true_test, y_pred_test)\n",
    "f1_test = 2 * (precision_test * recall_test) / (precision_test + recall_test)\n",
    "print( 'Precision: ', precision_test, '\\n', 'Recall: ', recall_test,'\\n', 'F1-score:', f1_test )\n",
    "\n",
    "# Plot in blue color the predicted data and in green color the\n",
    "# actual data to verify visually the accuracy of the model.\n",
    "fig_verify = plt.figure(figsize=(10, 5))\n",
    "plt.plot(y_pred_test, color=\"blue\")\n",
    "plt.plot(y_true_test, color=\"green\")\n",
    "plt.title('prediction')\n",
    "plt.ylabel('value')\n",
    "plt.xlabel('row')\n",
    "plt.legend(['predicted', 'actual data'], loc='upper left')\n",
    "plt.show()\n",
    "fig_verify.savefig(\"model_verify.png\")"
   ]
  },
  {
   "cell_type": "markdown",
   "metadata": {
    "colab_type": "text",
    "id": "ElhakcHtnX9J"
   },
   "source": [
    "# Regression\n",
    "How many more cycles an in-service engine will last before it fails?"
   ]
  },
  {
   "cell_type": "code",
   "execution_count": null,
   "metadata": {
    "colab": {},
    "colab_type": "code",
    "id": "yWuxznPhATyL"
   },
   "outputs": [],
   "source": [
    "import keras\n",
    "import keras.backend as K\n",
    "from keras.layers.core import Activation\n",
    "from keras.models import Sequential,load_model\n",
    "from keras.layers import Dense, Dropout, LSTM\n",
    "\n",
    "import pandas as pd\n",
    "import numpy as np\n",
    "import matplotlib.pyplot as plt\n",
    "import os\n",
    "from sklearn import preprocessing\n",
    "\n",
    "# Setting seed for reproducibility\n",
    "np.random.seed(1234)  \n",
    "PYTHONHASHSEED = 0\n",
    "\n",
    "# define path to save model\n",
    "model_path = 'regression_model.h5'"
   ]
  },
  {
   "cell_type": "markdown",
   "metadata": {
    "colab_type": "text",
    "id": "LF8N3B5fAZT2"
   },
   "source": [
    "## Data Ingestion"
   ]
  },
  {
   "cell_type": "code",
   "execution_count": null,
   "metadata": {
    "colab": {},
    "colab_type": "code",
    "id": "JxowlCjhnkId"
   },
   "outputs": [],
   "source": [
    "# read training data - It is the aircraft engine run-to-failure data.\n",
    "train_df = pd.read_csv('PM_train.txt', sep=\" \", header=None)\n",
    "train_df.drop(train_df.columns[[26, 27]], axis=1, inplace=True)\n",
    "train_df.columns = ['id', 'cycle', 'setting1', 'setting2', 'setting3', 's1', 's2', 's3',\n",
    "                     's4', 's5', 's6', 's7', 's8', 's9', 's10', 's11', 's12', 's13', 's14',\n",
    "                     's15', 's16', 's17', 's18', 's19', 's20', 's21']\n",
    "\n",
    "train_df = train_df.sort_values(['id','cycle'])\n",
    "\n",
    "# read test data - It is the aircraft engine operating data without failure events recorded.\n",
    "test_df = pd.read_csv('PM_test.txt', sep=\" \", header=None)\n",
    "test_df.drop(test_df.columns[[26, 27]], axis=1, inplace=True)\n",
    "test_df.columns = ['id', 'cycle', 'setting1', 'setting2', 'setting3', 's1', 's2', 's3',\n",
    "                     's4', 's5', 's6', 's7', 's8', 's9', 's10', 's11', 's12', 's13', 's14',\n",
    "                     's15', 's16', 's17', 's18', 's19', 's20', 's21']\n",
    "\n",
    "# read ground truth data - It contains the information of true remaining cycles for each engine in the testing data.\n",
    "truth_df = pd.read_csv('PM_truth.txt', sep=\" \", header=None)\n",
    "truth_df.drop(truth_df.columns[[1]], axis=1, inplace=True)"
   ]
  },
  {
   "cell_type": "markdown",
   "metadata": {
    "colab_type": "text",
    "id": "MmS3G0OnAegq"
   },
   "source": [
    "## Data Preprocessing"
   ]
  },
  {
   "cell_type": "code",
   "execution_count": null,
   "metadata": {
    "colab": {
     "base_uri": "https://localhost:8080/",
     "height": 442
    },
    "colab_type": "code",
    "id": "WRfcnQH8nqII",
    "outputId": "62d93a40-7de2-47ed-f73d-e7d388300627"
   },
   "outputs": [],
   "source": [
    "##################################\n",
    "# Data Preprocessing\n",
    "##################################\n",
    "\n",
    "#######\n",
    "# TRAIN\n",
    "#######\n",
    "# Data Labeling - generate column RUL(Remaining Usefull Life or Time to Failure)\n",
    "rul = pd.DataFrame(train_df.groupby('id')['cycle'].max()).reset_index()\n",
    "rul.columns = ['id', 'max']\n",
    "train_df = train_df.merge(rul, on=['id'], how='left')\n",
    "train_df['RUL'] = train_df['max'] - train_df['cycle']\n",
    "train_df.drop('max', axis=1, inplace=True)\n",
    "\n",
    "# generate label columns for training data\n",
    "# we will only make use of \"label1\" for binary classification, \n",
    "# while trying to answer the question: is a specific engine going to fail within w1 cycles?\n",
    "w1 = 30\n",
    "w0 = 15\n",
    "train_df['label1'] = np.where(train_df['RUL'] <= w1, 1, 0 )\n",
    "train_df['label2'] = train_df['label1']\n",
    "train_df.loc[train_df['RUL'] <= w0, 'label2'] = 2\n",
    "\n",
    "# MinMax normalization (from 0 to 1)\n",
    "train_df['cycle_norm'] = train_df['cycle']\n",
    "cols_normalize = train_df.columns.difference(['id','cycle','RUL','label1','label2'])\n",
    "min_max_scaler = preprocessing.MinMaxScaler()\n",
    "norm_train_df = pd.DataFrame(min_max_scaler.fit_transform(train_df[cols_normalize]), \n",
    "                             columns=cols_normalize, \n",
    "                             index=train_df.index)\n",
    "join_df = train_df[train_df.columns.difference(cols_normalize)].join(norm_train_df)\n",
    "train_df = join_df.reindex(columns = train_df.columns)\n",
    "\n",
    "#train_df.to_csv('PredictiveManteinanceEngineTraining.csv', encoding='utf-8',index = None)\n",
    "\n",
    "######\n",
    "# TEST\n",
    "######\n",
    "# MinMax normalization (from 0 to 1)\n",
    "test_df['cycle_norm'] = test_df['cycle']\n",
    "norm_test_df = pd.DataFrame(min_max_scaler.transform(test_df[cols_normalize]), \n",
    "                            columns=cols_normalize, \n",
    "                            index=test_df.index)\n",
    "test_join_df = test_df[test_df.columns.difference(cols_normalize)].join(norm_test_df)\n",
    "test_df = test_join_df.reindex(columns = test_df.columns)\n",
    "test_df = test_df.reset_index(drop=True)\n",
    "print(test_df.head())\n",
    "\n",
    "# We use the ground truth dataset to generate labels for the test data.\n",
    "# generate column max for test data\n",
    "rul = pd.DataFrame(test_df.groupby('id')['cycle'].max()).reset_index()\n",
    "rul.columns = ['id', 'max']\n",
    "truth_df.columns = ['more']\n",
    "truth_df['id'] = truth_df.index + 1\n",
    "truth_df['max'] = rul['max'] + truth_df['more']\n",
    "truth_df.drop('more', axis=1, inplace=True)\n",
    "\n",
    "# generate RUL for test data\n",
    "test_df = test_df.merge(truth_df, on=['id'], how='left')\n",
    "test_df['RUL'] = test_df['max'] - test_df['cycle']\n",
    "test_df.drop('max', axis=1, inplace=True)\n",
    "\n",
    "# generate label columns w0 and w1 for test data\n",
    "test_df['label1'] = np.where(test_df['RUL'] <= w1, 1, 0 )\n",
    "test_df['label2'] = test_df['label1']\n",
    "test_df.loc[test_df['RUL'] <= w0, 'label2'] = 2\n",
    "\n",
    "#test_df.to_csv('PredictiveManteinanceEngineValidation.csv', encoding='utf-8',index = None)\n",
    "\n",
    "# pick a large window size of 50 cycles\n",
    "sequence_length = 50\n",
    "\n",
    "# function to reshape features into (samples, time steps, features) \n",
    "def gen_sequence(id_df, seq_length, seq_cols):\n",
    "    \"\"\" Only sequences that meet the window-length are considered, no padding is used. This means for testing\n",
    "    we need to drop those which are below the window-length. An alternative would be to pad sequences so that\n",
    "    we can use shorter ones \"\"\"\n",
    "    # for one id I put all the rows in a single matrix\n",
    "    data_matrix = id_df[seq_cols].values\n",
    "    num_elements = data_matrix.shape[0]\n",
    "    # Iterate over two lists in parallel.\n",
    "    # For example id1 have 192 rows and sequence_length is equal to 50\n",
    "    # so zip iterate over two following list of numbers (0,112),(50,192)\n",
    "    # 0 50 -> from row 0 to row 50\n",
    "    # 1 51 -> from row 1 to row 51\n",
    "    # 2 52 -> from row 2 to row 52\n",
    "    # ...\n",
    "    # 111 191 -> from row 111 to 191\n",
    "    for start, stop in zip(range(0, num_elements-seq_length), range(seq_length, num_elements)):\n",
    "        yield data_matrix[start:stop, :]\n",
    "        \n",
    "# pick the feature columns \n",
    "sensor_cols = ['s' + str(i) for i in range(1,22)]\n",
    "sequence_cols = ['setting1', 'setting2', 'setting3', 'cycle_norm']\n",
    "sequence_cols.extend(sensor_cols)\n",
    "\n",
    "# TODO for debug \n",
    "# val is a list of 192 - 50 = 142 bi-dimensional array (50 rows x 25 columns)\n",
    "val=list(gen_sequence(train_df[train_df['id']==1], sequence_length, sequence_cols))\n",
    "print(len(val))\n",
    "\n",
    "# generator for the sequences\n",
    "# transform each id of the train dataset in a sequence\n",
    "seq_gen = (list(gen_sequence(train_df[train_df['id']==id], sequence_length, sequence_cols)) \n",
    "           for id in train_df['id'].unique())\n",
    "\n",
    "# generate sequences and convert to numpy array\n",
    "seq_array = np.concatenate(list(seq_gen)).astype(np.float32)\n",
    "print(seq_array.shape)\n",
    "\n",
    "# function to generate labels\n",
    "def gen_labels(id_df, seq_length, label):\n",
    "    \"\"\" Only sequences that meet the window-length are considered, no padding is used. This means for testing\n",
    "    we need to drop those which are below the window-length. An alternative would be to pad sequences so that\n",
    "    we can use shorter ones \"\"\"\n",
    "    # For one id I put all the labels in a single matrix.\n",
    "    # For example:\n",
    "    # [[1]\n",
    "    # [4]\n",
    "    # [1]\n",
    "    # [5]\n",
    "    # [9]\n",
    "    # ...\n",
    "    # [200]] \n",
    "    data_matrix = id_df[label].values\n",
    "    num_elements = data_matrix.shape[0]\n",
    "    # I have to remove the first seq_length labels\n",
    "    # because for one id the first sequence of seq_length size have as target\n",
    "    # the last label (the previus ones are discarded).\n",
    "    # All the next id's sequences will have associated step by step one label as target.\n",
    "    return data_matrix[seq_length:num_elements, :]\n",
    "\n",
    "# generate labels\n",
    "label_gen = [gen_labels(train_df[train_df['id']==id], sequence_length, ['RUL']) \n",
    "             for id in train_df['id'].unique()]\n",
    "\n",
    "label_array = np.concatenate(label_gen).astype(np.float32)\n",
    "label_array.shape"
   ]
  },
  {
   "cell_type": "markdown",
   "metadata": {
    "colab_type": "text",
    "id": "7ps8UixLAj1D"
   },
   "source": [
    "## LSTM"
   ]
  },
  {
   "cell_type": "code",
   "execution_count": null,
   "metadata": {
    "colab": {
     "base_uri": "https://localhost:8080/",
     "height": 2417
    },
    "colab_type": "code",
    "id": "gPx1AzOan6VT",
    "outputId": "b037bc16-3ae9-4be8-ada2-36737c8db0f3"
   },
   "outputs": [],
   "source": [
    "def r2_keras(y_true, y_pred):\n",
    "    \"\"\"Coefficient of Determination \n",
    "    \"\"\"\n",
    "    SS_res =  K.sum(K.square( y_true - y_pred ))\n",
    "    SS_tot = K.sum(K.square( y_true - K.mean(y_true) ) )\n",
    "    return ( 1 - SS_res/(SS_tot + K.epsilon()) )\n",
    "\n",
    "# Next, we build a deep network. \n",
    "# The first layer is an LSTM layer with 100 units followed by another LSTM layer with 50 units. \n",
    "# Dropout is also applied after each LSTM layer to control overfitting. \n",
    "# Final layer is a Dense output layer with single unit and linear activation since this is a regression problem.\n",
    "nb_features = seq_array.shape[2]\n",
    "nb_out = label_array.shape[1]\n",
    "\n",
    "model = Sequential()\n",
    "model.add(LSTM(\n",
    "         input_shape=(sequence_length, nb_features),\n",
    "         units=100,\n",
    "         return_sequences=True))\n",
    "model.add(Dropout(0.2))\n",
    "model.add(LSTM(\n",
    "          units=50,\n",
    "          return_sequences=False))\n",
    "model.add(Dropout(0.2))\n",
    "model.add(Dense(units=nb_out))\n",
    "model.add(Activation(\"linear\"))\n",
    "model.compile(loss='mean_squared_error', optimizer='rmsprop',metrics=['mae',r2_keras])\n",
    "\n",
    "print(model.summary())\n",
    "\n",
    "# fit the network\n",
    "history = model.fit(seq_array, label_array, epochs=100, batch_size=200, validation_split=0.05, verbose=2,\n",
    "          callbacks = [keras.callbacks.EarlyStopping(monitor='val_loss', min_delta=0, patience=10, verbose=0, mode='min'),\n",
    "                       keras.callbacks.ModelCheckpoint(model_path,monitor='val_loss', save_best_only=True, mode='min', verbose=0)]\n",
    "          )\n",
    "\n",
    "# list all data in history\n",
    "print(history.history.keys())"
   ]
  },
  {
   "cell_type": "markdown",
   "metadata": {
    "colab_type": "text",
    "id": "F_AqerQKAsaA"
   },
   "source": [
    "## Model Evaluation on Test set"
   ]
  },
  {
   "cell_type": "code",
   "execution_count": null,
   "metadata": {
    "colab": {
     "base_uri": "https://localhost:8080/",
     "height": 1928
    },
    "colab_type": "code",
    "id": "mNHApglLn-CT",
    "outputId": "1f43329c-c0c7-442b-dd57-978fc205a1f4"
   },
   "outputs": [],
   "source": [
    "# summarize history for R^2\n",
    "fig_acc = plt.figure(figsize=(10, 10))\n",
    "plt.plot(history.history['r2_keras'])\n",
    "plt.plot(history.history['val_r2_keras'])\n",
    "plt.title('model r^2')\n",
    "plt.ylabel('R^2')\n",
    "plt.xlabel('epoch')\n",
    "plt.legend(['train', 'test'], loc='upper left')\n",
    "plt.show()\n",
    "fig_acc.savefig(\"model_r2.png\")\n",
    "\n",
    "# summarize history for MAE\n",
    "fig_acc = plt.figure(figsize=(10, 10))\n",
    "plt.plot(history.history['mean_absolute_error'])\n",
    "plt.plot(history.history['val_mean_absolute_error'])\n",
    "plt.title('model MAE')\n",
    "plt.ylabel('MAE')\n",
    "plt.xlabel('epoch')\n",
    "plt.legend(['train', 'test'], loc='upper left')\n",
    "plt.show()\n",
    "fig_acc.savefig(\"model_mae.png\")\n",
    "\n",
    "# summarize history for Loss\n",
    "fig_acc = plt.figure(figsize=(10, 10))\n",
    "plt.plot(history.history['loss'])\n",
    "plt.plot(history.history['val_loss'])\n",
    "plt.title('model loss')\n",
    "plt.ylabel('loss')\n",
    "plt.xlabel('epoch')\n",
    "plt.legend(['train', 'test'], loc='upper left')\n",
    "plt.show()\n",
    "fig_acc.savefig(\"model_regression_loss.png\")\n",
    "\n",
    "# training metrics\n",
    "scores = model.evaluate(seq_array, label_array, verbose=1, batch_size=200)\n",
    "print('\\nMAE: {}'.format(scores[1]))\n",
    "print('\\nR^2: {}'.format(scores[2]))\n",
    "\n",
    "y_pred = model.predict(seq_array,verbose=1, batch_size=200)\n",
    "y_true = label_array\n",
    "\n",
    "test_set = pd.DataFrame(y_pred)\n",
    "test_set.to_csv('submit_train.csv', index = None)"
   ]
  },
  {
   "cell_type": "markdown",
   "metadata": {
    "colab_type": "text",
    "id": "X-4BShGEAyMP"
   },
   "source": [
    "## Evaluate on Validation set"
   ]
  },
  {
   "cell_type": "code",
   "execution_count": null,
   "metadata": {
    "colab": {
     "base_uri": "https://localhost:8080/",
     "height": 417
    },
    "colab_type": "code",
    "id": "pDrp7F6Fn-3p",
    "outputId": "7aa247a4-07fe-45c8-f3ca-1074eb5059e5"
   },
   "outputs": [],
   "source": [
    "# We pick the last sequence for each id in the test data\n",
    "seq_array_test_last = [test_df[test_df['id']==id][sequence_cols].values[-sequence_length:] \n",
    "                       for id in test_df['id'].unique() if len(test_df[test_df['id']==id]) >= sequence_length]\n",
    "\n",
    "seq_array_test_last = np.asarray(seq_array_test_last).astype(np.float32)\n",
    "#print(\"seq_array_test_last\")\n",
    "#print(seq_array_test_last)\n",
    "#print(seq_array_test_last.shape)\n",
    "\n",
    "# Similarly, we pick the labels\n",
    "#print(\"y_mask\")\n",
    "y_mask = [len(test_df[test_df['id']==id]) >= sequence_length for id in test_df['id'].unique()]\n",
    "label_array_test_last = test_df.groupby('id')['RUL'].nth(-1)[y_mask].values\n",
    "label_array_test_last = label_array_test_last.reshape(label_array_test_last.shape[0],1).astype(np.float32)\n",
    "#print(label_array_test_last.shape)\n",
    "#print(\"label_array_test_last\")\n",
    "#print(label_array_test_last)\n",
    "\n",
    "# if best iteration's model was saved then load and use it\n",
    "if os.path.isfile(model_path):\n",
    "    estimator = load_model(model_path,custom_objects={'r2_keras': r2_keras})\n",
    "\n",
    "    # test metrics\n",
    "    scores_test = estimator.evaluate(seq_array_test_last, label_array_test_last, verbose=2)\n",
    "    print('\\nMAE: {}'.format(scores_test[1]))\n",
    "    print('\\nR^2: {}'.format(scores_test[2]))\n",
    "\n",
    "    y_pred_test = estimator.predict(seq_array_test_last)\n",
    "    y_true_test = label_array_test_last\n",
    "\n",
    "    test_set = pd.DataFrame(y_pred_test)\n",
    "    test_set.to_csv('submit_test.csv', index = None)\n",
    "\n",
    "    # Plot in blue color the predicted data and in green color the\n",
    "    # actual data to verify visually the accuracy of the model.\n",
    "    fig_verify = plt.figure(figsize=(10, 5))\n",
    "    plt.plot(y_pred_test, color=\"blue\")\n",
    "    plt.plot(y_true_test, color=\"green\")\n",
    "    plt.title('prediction')\n",
    "    plt.ylabel('value')\n",
    "    plt.xlabel('row')\n",
    "    plt.legend(['predicted', 'actual data'], loc='upper left')\n",
    "    plt.show()\n",
    "    fig_verify.savefig(\"model_regression_verify.png\")"
   ]
  },
  {
   "cell_type": "markdown",
   "metadata": {
    "colab_type": "text",
    "id": "j1T8y5qA91x8"
   },
   "source": [
    "# References\n",
    "\n",
    "\n",
    "- [1] Deep Learning for Predictive Maintenance https://github.com/Azure/lstms_for_predictive_maintenance/blob/master/Deep%20Learning%20Basics%20for%20Predictive%20Maintenance.ipynb\n",
    "- [2] Predictive Maintenance: Step 2A of 3, train and evaluate regression models https://gallery.cortanaintelligence.com/Experiment/Predictive-Maintenance-Step-2A-of-3-train-and-evaluate-regression-models-2\n",
    "- [3] A. Saxena and K. Goebel (2008). \"Turbofan Engine Degradation Simulation Data Set\", NASA Ames Prognostics Data Repository (https://ti.arc.nasa.gov/tech/dash/groups/pcoe/prognostic-data-repository/#turbofan), NASA Ames Research Center, Moffett Field, CA \n",
    "- [4] Understanding LSTM Networks http://colah.github.io/posts/2015-08-Understanding-LSTMs/\n",
    "\n"
   ]
  }
 ],
 "metadata": {
  "accelerator": "GPU",
  "colab": {
   "collapsed_sections": [
    "4BsYPkY7gYGx",
    "ElhakcHtnX9J"
   ],
   "name": "Copia de Predictive-Maintenance-using-LSTM.ipynb",
   "provenance": [],
   "toc_visible": true
  },
  "kernelspec": {
   "display_name": "Python 3",
   "language": "python",
   "name": "python3"
  },
  "language_info": {
   "codemirror_mode": {
    "name": "ipython",
    "version": 3
   },
   "file_extension": ".py",
   "mimetype": "text/x-python",
   "name": "python",
   "nbconvert_exporter": "python",
   "pygments_lexer": "ipython3",
   "version": "3.7.7"
  }
 },
 "nbformat": 4,
 "nbformat_minor": 1
}
